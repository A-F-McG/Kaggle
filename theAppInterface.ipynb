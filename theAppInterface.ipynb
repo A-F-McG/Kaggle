{
 "cells": [
  {
   "cell_type": "code",
   "execution_count": null,
   "metadata": {},
   "outputs": [],
   "source": [
    "#Run python script which imported, explored and trained a model on the data\n",
    "#Import the Random Forest Regressor and other needed variables"
   ]
  },
  {
   "cell_type": "code",
   "execution_count": 4,
   "metadata": {},
   "outputs": [],
   "source": [
    "%%capture\n",
    "\n",
    "%run predictingSuicides.ipynb\n",
    "\n",
    "%store -r RFreg1\n",
    "%store -r new_instance\n",
    "%store -r full_country_list"
   ]
  },
  {
   "cell_type": "code",
   "execution_count": 17,
   "metadata": {},
   "outputs": [],
   "source": [
    "#Import interactive elements to create UI\n",
    "\n",
    "from ipywidgets import widgets, GridBox, Label, Button, ButtonStyle, HBox, VBox, Layout"
   ]
  },
  {
   "cell_type": "code",
   "execution_count": 18,
   "metadata": {
    "scrolled": false
   },
   "outputs": [],
   "source": [
    "#Country drop down\n",
    "\n",
    "def countryColumn(countryName):\n",
    "    theString = \"country_\" + countryName\n",
    "    return theString\n",
    "\n",
    "def changeCountry(country):\n",
    "    for countries in full_country_list:\n",
    "        new_instance.loc[0, countryColumn(countries)]=0\n",
    "    new_instance.loc[0, countryColumn(country)] = 1\n",
    "    \n",
    "country_dropdown = widgets.Dropdown(\n",
    "                            options=full_country_list,\n",
    "                            value = \"Albania\",\n",
    "                            disabled=False,\n",
    "                        )\n",
    "\n",
    "def country_change(country):\n",
    "    changeCountry(country['new'])\n",
    "    new_instance.loc[0, countryColumn(country['new'])] = 1\n",
    "    suicides_number.value = str(RFreg1.predict(new_instance)[0])\n",
    "    \n",
    "country_dropdown.observe(country_change, names='value')"
   ]
  },
  {
   "cell_type": "code",
   "execution_count": 19,
   "metadata": {},
   "outputs": [],
   "source": [
    "#Murder rate slider\n",
    "\n",
    "murders_slider = widgets.IntSlider(min =0, max = 30)\n",
    "\n",
    "def on_value_change(change):\n",
    "    new_instance.loc[0, \"murders_per_100000\"]= change['new']\n",
    "    suicides_number.value = str(RFreg1.predict(new_instance)[0])\n",
    "\n",
    "murders_slider.observe(on_value_change, names='value')"
   ]
  },
  {
   "cell_type": "code",
   "execution_count": 20,
   "metadata": {},
   "outputs": [],
   "source": [
    "#Unemployment slider\n",
    "\n",
    "unemployment_slider = widgets.IntSlider(min =0, max = 10)\n",
    "\n",
    "def on_value_change(change):\n",
    "    new_instance.loc[0, \"unemployment_percentage\"]= change['new']\n",
    "    suicides_number.value = str(RFreg1.predict(new_instance)[0])\n",
    "\n",
    "unemployment_slider.observe(on_value_change, names='value')"
   ]
  },
  {
   "cell_type": "code",
   "execution_count": 21,
   "metadata": {},
   "outputs": [],
   "source": [
    "#Year slider\n",
    "\n",
    "year_slider = widgets.IntSlider(min =2000, max = 2020)\n",
    "\n",
    "def on_value_change(change):\n",
    "    new_instance.loc[0, \"year\"]= change['new']\n",
    "    suicides_number.value = str(RFreg1.predict(new_instance)[0])\n",
    "\n",
    "year_slider.observe(on_value_change, names='value')"
   ]
  },
  {
   "cell_type": "code",
   "execution_count": 22,
   "metadata": {},
   "outputs": [],
   "source": [
    "#Suicide rate result\n",
    "\n",
    "suicides_number = widgets.Text(\"Toggle the features to predict the suicide rate\")\n",
    "suicides_label = Label(\"Suicides per 10,000 people\")"
   ]
  },
  {
   "cell_type": "code",
   "execution_count": 28,
   "metadata": {},
   "outputs": [],
   "source": [
    "#Give every element a label and center them all \n",
    "\n",
    "centered = Layout(align_items = \"center\")\n",
    "\n",
    "country = VBox([Label(\"Country\"), country_dropdown])\n",
    "country.layout = centered\n",
    "\n",
    "murders = VBox([Label(\"Murders per 10,000 people\"), murders_slider])\n",
    "murders.layout = centered\n",
    "\n",
    "unemployment = VBox([Label(\"Unemployment percentage\"), unemployment_slider])\n",
    "unemployment.layout = centered\n",
    "\n",
    "year = VBox([Label(\"Year\"), year_slider])\n",
    "year.layout = centered\n",
    "\n",
    "suicides = VBox([suicides_label, suicides_number])\n",
    "suicides.layout = centered\n",
    "\n",
    "\n"
   ]
  },
  {
   "cell_type": "code",
   "execution_count": 49,
   "metadata": {},
   "outputs": [],
   "source": [
    "features_grid = GridBox([country, year, unemployment, murders], \n",
    "                               layout = Layout(\n",
    "                                   grid_template_columns = \"50% 50%\",\n",
    "                                   grid_gap = \"20px\"\n",
    "                               ))"
   ]
  },
  {
   "cell_type": "code",
   "execution_count": 54,
   "metadata": {},
   "outputs": [],
   "source": [
    "full_grid = GridBox([suicides, features_grid], \n",
    "                   layout = Layout(\n",
    "                       grid_gap = \"50px\"\n",
    "                   ))"
   ]
  },
  {
   "cell_type": "code",
   "execution_count": 55,
   "metadata": {},
   "outputs": [
    {
     "data": {
      "application/vnd.jupyter.widget-view+json": {
       "model_id": "e07ddb8b68704ec6b2d151e85f97b0f5",
       "version_major": 2,
       "version_minor": 0
      },
      "text/plain": [
       "GridBox(children=(VBox(children=(Label(value='Suicides per 10,000 people', layout=Layout(justify_content='cent…"
      ]
     },
     "metadata": {},
     "output_type": "display_data"
    }
   ],
   "source": [
    "full_grid"
   ]
  },
  {
   "cell_type": "code",
   "execution_count": null,
   "metadata": {},
   "outputs": [],
   "source": []
  }
 ],
 "metadata": {
  "kernelspec": {
   "display_name": "Python 3",
   "language": "python",
   "name": "python3"
  },
  "language_info": {
   "codemirror_mode": {
    "name": "ipython",
    "version": 3
   },
   "file_extension": ".py",
   "mimetype": "text/x-python",
   "name": "python",
   "nbconvert_exporter": "python",
   "pygments_lexer": "ipython3",
   "version": "3.6.7"
  }
 },
 "nbformat": 4,
 "nbformat_minor": 2
}
