{
 "cells": [
  {
   "cell_type": "markdown",
   "metadata": {
    "_cell_guid": "b1076dfc-b9ad-4769-8c92-a6c4dae69d19",
    "_uuid": "8f2839f25d086af736a60e9eeb907d3b93b6e0e5"
   },
   "source": [
    "<h1 align=\"center\">Predicting suicide rates based on supposed risk factors</h1> "
   ]
  },
  {
   "cell_type": "markdown",
   "metadata": {},
   "source": [
    "![title](redsui.jpg)"
   ]
  },
  {
   "cell_type": "markdown",
   "metadata": {
    "_cell_guid": "79c7e3d0-c299-4dcb-8224-4455121ee9b0",
    "_uuid": "d629ff2d2480ee46fbb7e2d37f6b5fab8052498a"
   },
   "source": [
    "Mental health is a prevalent problem in today's world. Being able to predict the percentage of a population in a region who will commit suicide could lead to more money for support being put in place in those regions and for those most at risk.\n",
    "\n",
    "I have looked at some of the risk factors for suicide listed on mentalhealth.org (https://www.mentalhealth.org.uk/a-to-z/s/suicide) and have chosen to investigate whether unemployment, alcohol consumption, poverty, location and murder rates are able to predict suicide rates. I will take data between 2000 and 2016 one because that keeps the predictions relevant to this year and 2) because lots of data from before these years is missing. "
   ]
  },
  {
   "cell_type": "markdown",
   "metadata": {},
   "source": [
    "[Gathering and preprocessing the data](#Gathering_and_preprocessing_the_data)"
   ]
  },
  {
   "cell_type": "markdown",
   "metadata": {},
   "source": [
    "[Combining the dataframes](#Combining_the_dataframes)"
   ]
  },
  {
   "cell_type": "markdown",
   "metadata": {},
   "source": [
    "[Looking at and dealing with missing data](#Looking_at_and_dealing_with_missing_data)"
   ]
  },
  {
   "cell_type": "markdown",
   "metadata": {},
   "source": [
    "[Exploring the data](#Exploring_the_data)"
   ]
  },
  {
   "cell_type": "markdown",
   "metadata": {},
   "source": [
    "[Let's start modelling!](#Lets_start_modelling)"
   ]
  },
  {
   "cell_type": "markdown",
   "metadata": {},
   "source": [
    "<a id='Gathering_and_preprocessing_the_data'></a>"
   ]
  },
  {
   "cell_type": "code",
   "execution_count": 1,
   "metadata": {},
   "outputs": [],
   "source": [
    "# Predicting suicide rates based on supposed risk factors#Invite everyone to the data science par-tay\n",
    "\n",
    "import pandas as pd\n",
    "import numpy as np\n",
    "import seaborn as sns\n",
    "\n",
    "import matplotlib.pyplot as plt\n",
    "\n",
    "from sklearn.impute import SimpleImputer\n",
    "from sklearn.model_selection import train_test_split\n",
    "from sklearn.linear_model import LinearRegression\n",
    "from sklearn.model_selection import cross_val_score\n",
    "\n",
    "from ipywidgets import widgets"
   ]
  },
  {
   "cell_type": "markdown",
   "metadata": {},
   "source": [
    "# Gathering and preprocessing the data"
   ]
  },
  {
   "cell_type": "code",
   "execution_count": 2,
   "metadata": {},
   "outputs": [],
   "source": [
    "#Load all of the data\n",
    "unemployment_percentage = pd.read_csv(\"long_term_unemployment_rate_percent (1).csv\")\n",
    "poverty_percentage = pd.read_csv(\"alternative_poverty_percent_below_nationally_defined_poverty.csv\")\n",
    "murders_per_100000 = pd.read_csv(\"murder_per_100000_people.csv\")\n",
    "alcohol_per_capita = pd.read_csv(\"data.csv\")\n",
    "alcohol_per_capita_2 = pd.read_csv(\"data (1).csv\")\n",
    "suicide_per_10000 = pd.read_csv(\"suicide_per_100000_people (1).csv\")\n"
   ]
  },
  {
   "cell_type": "code",
   "execution_count": 3,
   "metadata": {},
   "outputs": [
    {
     "data": {
      "text/html": [
       "<div>\n",
       "<style scoped>\n",
       "    .dataframe tbody tr th:only-of-type {\n",
       "        vertical-align: middle;\n",
       "    }\n",
       "\n",
       "    .dataframe tbody tr th {\n",
       "        vertical-align: top;\n",
       "    }\n",
       "\n",
       "    .dataframe thead th {\n",
       "        text-align: right;\n",
       "    }\n",
       "</style>\n",
       "<table border=\"1\" class=\"dataframe\">\n",
       "  <thead>\n",
       "    <tr style=\"text-align: right;\">\n",
       "      <th></th>\n",
       "      <th>country</th>\n",
       "      <th>1990</th>\n",
       "      <th>1991</th>\n",
       "      <th>1992</th>\n",
       "      <th>1993</th>\n",
       "      <th>1994</th>\n",
       "      <th>1995</th>\n",
       "      <th>1996</th>\n",
       "      <th>1997</th>\n",
       "      <th>1998</th>\n",
       "      <th>...</th>\n",
       "      <th>2008</th>\n",
       "      <th>2009</th>\n",
       "      <th>2010</th>\n",
       "      <th>2011</th>\n",
       "      <th>2012</th>\n",
       "      <th>2013</th>\n",
       "      <th>2014</th>\n",
       "      <th>2015</th>\n",
       "      <th>2016</th>\n",
       "      <th>2017</th>\n",
       "    </tr>\n",
       "  </thead>\n",
       "  <tbody>\n",
       "    <tr>\n",
       "      <th>0</th>\n",
       "      <td>Albania</td>\n",
       "      <td>NaN</td>\n",
       "      <td>NaN</td>\n",
       "      <td>NaN</td>\n",
       "      <td>NaN</td>\n",
       "      <td>NaN</td>\n",
       "      <td>NaN</td>\n",
       "      <td>NaN</td>\n",
       "      <td>NaN</td>\n",
       "      <td>NaN</td>\n",
       "      <td>...</td>\n",
       "      <td>4.50</td>\n",
       "      <td>4.910</td>\n",
       "      <td>5.67</td>\n",
       "      <td>5.28</td>\n",
       "      <td>5.30</td>\n",
       "      <td>5.53</td>\n",
       "      <td>5.76</td>\n",
       "      <td>6.09</td>\n",
       "      <td>NaN</td>\n",
       "      <td>NaN</td>\n",
       "    </tr>\n",
       "    <tr>\n",
       "      <th>1</th>\n",
       "      <td>Algeria</td>\n",
       "      <td>NaN</td>\n",
       "      <td>NaN</td>\n",
       "      <td>NaN</td>\n",
       "      <td>NaN</td>\n",
       "      <td>NaN</td>\n",
       "      <td>NaN</td>\n",
       "      <td>NaN</td>\n",
       "      <td>NaN</td>\n",
       "      <td>NaN</td>\n",
       "      <td>...</td>\n",
       "      <td>NaN</td>\n",
       "      <td>NaN</td>\n",
       "      <td>NaN</td>\n",
       "      <td>NaN</td>\n",
       "      <td>NaN</td>\n",
       "      <td>NaN</td>\n",
       "      <td>2.15</td>\n",
       "      <td>NaN</td>\n",
       "      <td>NaN</td>\n",
       "      <td>NaN</td>\n",
       "    </tr>\n",
       "    <tr>\n",
       "      <th>2</th>\n",
       "      <td>Angola</td>\n",
       "      <td>NaN</td>\n",
       "      <td>NaN</td>\n",
       "      <td>NaN</td>\n",
       "      <td>NaN</td>\n",
       "      <td>NaN</td>\n",
       "      <td>NaN</td>\n",
       "      <td>NaN</td>\n",
       "      <td>NaN</td>\n",
       "      <td>NaN</td>\n",
       "      <td>...</td>\n",
       "      <td>NaN</td>\n",
       "      <td>NaN</td>\n",
       "      <td>NaN</td>\n",
       "      <td>1.56</td>\n",
       "      <td>NaN</td>\n",
       "      <td>NaN</td>\n",
       "      <td>NaN</td>\n",
       "      <td>NaN</td>\n",
       "      <td>NaN</td>\n",
       "      <td>NaN</td>\n",
       "    </tr>\n",
       "    <tr>\n",
       "      <th>3</th>\n",
       "      <td>Argentina</td>\n",
       "      <td>NaN</td>\n",
       "      <td>NaN</td>\n",
       "      <td>NaN</td>\n",
       "      <td>NaN</td>\n",
       "      <td>NaN</td>\n",
       "      <td>NaN</td>\n",
       "      <td>NaN</td>\n",
       "      <td>NaN</td>\n",
       "      <td>NaN</td>\n",
       "      <td>...</td>\n",
       "      <td>0.88</td>\n",
       "      <td>0.925</td>\n",
       "      <td>1.22</td>\n",
       "      <td>1.11</td>\n",
       "      <td>1.28</td>\n",
       "      <td>1.04</td>\n",
       "      <td>1.22</td>\n",
       "      <td>NaN</td>\n",
       "      <td>NaN</td>\n",
       "      <td>1.14</td>\n",
       "    </tr>\n",
       "    <tr>\n",
       "      <th>4</th>\n",
       "      <td>Armenia</td>\n",
       "      <td>NaN</td>\n",
       "      <td>NaN</td>\n",
       "      <td>NaN</td>\n",
       "      <td>NaN</td>\n",
       "      <td>NaN</td>\n",
       "      <td>NaN</td>\n",
       "      <td>NaN</td>\n",
       "      <td>NaN</td>\n",
       "      <td>NaN</td>\n",
       "      <td>...</td>\n",
       "      <td>NaN</td>\n",
       "      <td>5.690</td>\n",
       "      <td>6.77</td>\n",
       "      <td>6.46</td>\n",
       "      <td>5.80</td>\n",
       "      <td>NaN</td>\n",
       "      <td>7.15</td>\n",
       "      <td>7.11</td>\n",
       "      <td>5.4</td>\n",
       "      <td>NaN</td>\n",
       "    </tr>\n",
       "  </tbody>\n",
       "</table>\n",
       "<p>5 rows × 29 columns</p>\n",
       "</div>"
      ],
      "text/plain": [
       "     country  1990  1991  1992  1993  1994  1995  1996  1997  1998  ...   \\\n",
       "0    Albania   NaN   NaN   NaN   NaN   NaN   NaN   NaN   NaN   NaN  ...    \n",
       "1    Algeria   NaN   NaN   NaN   NaN   NaN   NaN   NaN   NaN   NaN  ...    \n",
       "2     Angola   NaN   NaN   NaN   NaN   NaN   NaN   NaN   NaN   NaN  ...    \n",
       "3  Argentina   NaN   NaN   NaN   NaN   NaN   NaN   NaN   NaN   NaN  ...    \n",
       "4    Armenia   NaN   NaN   NaN   NaN   NaN   NaN   NaN   NaN   NaN  ...    \n",
       "\n",
       "   2008   2009  2010  2011  2012  2013  2014  2015  2016  2017  \n",
       "0  4.50  4.910  5.67  5.28  5.30  5.53  5.76  6.09   NaN   NaN  \n",
       "1   NaN    NaN   NaN   NaN   NaN   NaN  2.15   NaN   NaN   NaN  \n",
       "2   NaN    NaN   NaN  1.56   NaN   NaN   NaN   NaN   NaN   NaN  \n",
       "3  0.88  0.925  1.22  1.11  1.28  1.04  1.22   NaN   NaN  1.14  \n",
       "4   NaN  5.690  6.77  6.46  5.80   NaN  7.15  7.11   5.4   NaN  \n",
       "\n",
       "[5 rows x 29 columns]"
      ]
     },
     "execution_count": 3,
     "metadata": {},
     "output_type": "execute_result"
    }
   ],
   "source": [
    "#Have a look at some of the data\n",
    "\n",
    "unemployment_percentage.head()"
   ]
  },
  {
   "cell_type": "code",
   "execution_count": 4,
   "metadata": {},
   "outputs": [
    {
     "data": {
      "text/html": [
       "<div>\n",
       "<style scoped>\n",
       "    .dataframe tbody tr th:only-of-type {\n",
       "        vertical-align: middle;\n",
       "    }\n",
       "\n",
       "    .dataframe tbody tr th {\n",
       "        vertical-align: top;\n",
       "    }\n",
       "\n",
       "    .dataframe thead th {\n",
       "        text-align: right;\n",
       "    }\n",
       "</style>\n",
       "<table border=\"1\" class=\"dataframe\">\n",
       "  <thead>\n",
       "    <tr style=\"text-align: right;\">\n",
       "      <th></th>\n",
       "      <th>Unnamed: 0</th>\n",
       "      <th>Unnamed: 1</th>\n",
       "      <th>Unnamed: 2</th>\n",
       "      <th>Alcohol, recorded per capita (15+) consumption (in litres of pure alcohol)</th>\n",
       "      <th>Alcohol, recorded per capita (15+) consumption (in litres of pure alcohol).1</th>\n",
       "      <th>Alcohol, recorded per capita (15+) consumption (in litres of pure alcohol).2</th>\n",
       "      <th>Alcohol, recorded per capita (15+) consumption (in litres of pure alcohol).3</th>\n",
       "      <th>Alcohol, recorded per capita (15+) consumption (in litres of pure alcohol).4</th>\n",
       "      <th>Alcohol, recorded per capita (15+) consumption (in litres of pure alcohol).5</th>\n",
       "      <th>Alcohol, recorded per capita (15+) consumption (in litres of pure alcohol).6</th>\n",
       "    </tr>\n",
       "  </thead>\n",
       "  <tbody>\n",
       "    <tr>\n",
       "      <th>0</th>\n",
       "      <td>Country</td>\n",
       "      <td>Data Source</td>\n",
       "      <td>Beverage Types</td>\n",
       "      <td>2016.00</td>\n",
       "      <td>2015.00</td>\n",
       "      <td>2014.00</td>\n",
       "      <td>2013.00</td>\n",
       "      <td>2012.00</td>\n",
       "      <td>2011.00</td>\n",
       "      <td>2010.00</td>\n",
       "    </tr>\n",
       "    <tr>\n",
       "      <th>1</th>\n",
       "      <td>Afghanistan</td>\n",
       "      <td>Data source</td>\n",
       "      <td>All types</td>\n",
       "      <td>NaN</td>\n",
       "      <td>0.02</td>\n",
       "      <td>0.03</td>\n",
       "      <td>0.03</td>\n",
       "      <td>0.04</td>\n",
       "      <td>0.04</td>\n",
       "      <td>0.03</td>\n",
       "    </tr>\n",
       "    <tr>\n",
       "      <th>2</th>\n",
       "      <td>Albania</td>\n",
       "      <td>Data source</td>\n",
       "      <td>All types</td>\n",
       "      <td>5.07</td>\n",
       "      <td>4.77</td>\n",
       "      <td>4.81</td>\n",
       "      <td>5.06</td>\n",
       "      <td>5.43</td>\n",
       "      <td>5.65</td>\n",
       "      <td>5.53</td>\n",
       "    </tr>\n",
       "    <tr>\n",
       "      <th>3</th>\n",
       "      <td>Algeria</td>\n",
       "      <td>Data source</td>\n",
       "      <td>All types</td>\n",
       "      <td>0.56</td>\n",
       "      <td>0.56</td>\n",
       "      <td>0.56</td>\n",
       "      <td>0.54</td>\n",
       "      <td>0.49</td>\n",
       "      <td>0.44</td>\n",
       "      <td>0.39</td>\n",
       "    </tr>\n",
       "    <tr>\n",
       "      <th>4</th>\n",
       "      <td>Andorra</td>\n",
       "      <td>Data source</td>\n",
       "      <td>All types</td>\n",
       "      <td>10.06</td>\n",
       "      <td>9.97</td>\n",
       "      <td>9.95</td>\n",
       "      <td>9.78</td>\n",
       "      <td>10.06</td>\n",
       "      <td>10.31</td>\n",
       "      <td>10.64</td>\n",
       "    </tr>\n",
       "  </tbody>\n",
       "</table>\n",
       "</div>"
      ],
      "text/plain": [
       "    Unnamed: 0   Unnamed: 1      Unnamed: 2  \\\n",
       "0      Country  Data Source  Beverage Types   \n",
       "1  Afghanistan  Data source       All types   \n",
       "2      Albania  Data source       All types   \n",
       "3      Algeria  Data source       All types   \n",
       "4      Andorra  Data source       All types   \n",
       "\n",
       "   Alcohol, recorded per capita (15+) consumption (in litres of pure alcohol)  \\\n",
       "0                                            2016.00                            \n",
       "1                                                NaN                            \n",
       "2                                               5.07                            \n",
       "3                                               0.56                            \n",
       "4                                              10.06                            \n",
       "\n",
       "   Alcohol, recorded per capita (15+) consumption (in litres of pure alcohol).1  \\\n",
       "0                                            2015.00                              \n",
       "1                                               0.02                              \n",
       "2                                               4.77                              \n",
       "3                                               0.56                              \n",
       "4                                               9.97                              \n",
       "\n",
       "   Alcohol, recorded per capita (15+) consumption (in litres of pure alcohol).2  \\\n",
       "0                                            2014.00                              \n",
       "1                                               0.03                              \n",
       "2                                               4.81                              \n",
       "3                                               0.56                              \n",
       "4                                               9.95                              \n",
       "\n",
       "   Alcohol, recorded per capita (15+) consumption (in litres of pure alcohol).3  \\\n",
       "0                                            2013.00                              \n",
       "1                                               0.03                              \n",
       "2                                               5.06                              \n",
       "3                                               0.54                              \n",
       "4                                               9.78                              \n",
       "\n",
       "   Alcohol, recorded per capita (15+) consumption (in litres of pure alcohol).4  \\\n",
       "0                                            2012.00                              \n",
       "1                                               0.04                              \n",
       "2                                               5.43                              \n",
       "3                                               0.49                              \n",
       "4                                              10.06                              \n",
       "\n",
       "   Alcohol, recorded per capita (15+) consumption (in litres of pure alcohol).5  \\\n",
       "0                                            2011.00                              \n",
       "1                                               0.04                              \n",
       "2                                               5.65                              \n",
       "3                                               0.44                              \n",
       "4                                              10.31                              \n",
       "\n",
       "   Alcohol, recorded per capita (15+) consumption (in litres of pure alcohol).6  \n",
       "0                                            2010.00                             \n",
       "1                                               0.03                             \n",
       "2                                               5.53                             \n",
       "3                                               0.39                             \n",
       "4                                              10.64                             "
      ]
     },
     "execution_count": 4,
     "metadata": {},
     "output_type": "execute_result"
    }
   ],
   "source": [
    "#The alcohol datasets were taken from a different source and so are formatted differently. I'll play around with the \n",
    "#csv file to get it into the same format as the others to make things run more smoothly. \n",
    "alcohol_per_capita.head()"
   ]
  },
  {
   "cell_type": "code",
   "execution_count": 5,
   "metadata": {},
   "outputs": [],
   "source": [
    "# Funtion to modify alcohol datasets so that they're in the same format as the others\n",
    "#\n",
    "#Drop unecessary columns\n",
    "#Adjust the headers to match other datasets\n",
    "#Drop the first row (now a duplicate of header)\n",
    "\n",
    "def modify_alcohol_databases(data):\n",
    "    data = data.drop([\"Unnamed: 1\", \"Unnamed: 2\"], axis = \"columns\")\n",
    "\n",
    "    headers = [\"country\"]\n",
    "    for header_names in data.iloc[0][1:]:\n",
    "        headers.append(str(int(header_names)))\n",
    "\n",
    "    data.iloc[0] = headers\n",
    "    data.columns = data.iloc[0]\n",
    "    data = data.drop(data.index[0])\n",
    "    return data\n"
   ]
  },
  {
   "cell_type": "code",
   "execution_count": 6,
   "metadata": {},
   "outputs": [
    {
     "data": {
      "text/html": [
       "<div>\n",
       "<style scoped>\n",
       "    .dataframe tbody tr th:only-of-type {\n",
       "        vertical-align: middle;\n",
       "    }\n",
       "\n",
       "    .dataframe tbody tr th {\n",
       "        vertical-align: top;\n",
       "    }\n",
       "\n",
       "    .dataframe thead th {\n",
       "        text-align: right;\n",
       "    }\n",
       "</style>\n",
       "<table border=\"1\" class=\"dataframe\">\n",
       "  <thead>\n",
       "    <tr style=\"text-align: right;\">\n",
       "      <th></th>\n",
       "      <th>country</th>\n",
       "      <th>2016</th>\n",
       "      <th>2015</th>\n",
       "      <th>2014</th>\n",
       "      <th>2013</th>\n",
       "      <th>2012</th>\n",
       "      <th>2011</th>\n",
       "      <th>2010</th>\n",
       "      <th>2009</th>\n",
       "      <th>2008</th>\n",
       "      <th>2007</th>\n",
       "      <th>2006</th>\n",
       "      <th>2005</th>\n",
       "      <th>2004</th>\n",
       "      <th>2003</th>\n",
       "      <th>2002</th>\n",
       "      <th>2001</th>\n",
       "      <th>2000</th>\n",
       "    </tr>\n",
       "  </thead>\n",
       "  <tbody>\n",
       "    <tr>\n",
       "      <th>0</th>\n",
       "      <td>Afghanistan</td>\n",
       "      <td>NaN</td>\n",
       "      <td>0.02</td>\n",
       "      <td>0.03</td>\n",
       "      <td>0.03</td>\n",
       "      <td>0.04</td>\n",
       "      <td>0.04</td>\n",
       "      <td>0.03</td>\n",
       "      <td>0.03</td>\n",
       "      <td>0.03</td>\n",
       "      <td>0.03</td>\n",
       "      <td>0.03</td>\n",
       "      <td>0.02</td>\n",
       "      <td>0.02</td>\n",
       "      <td>0.01</td>\n",
       "      <td>0.01</td>\n",
       "      <td>0</td>\n",
       "      <td>0</td>\n",
       "    </tr>\n",
       "    <tr>\n",
       "      <th>1</th>\n",
       "      <td>Albania</td>\n",
       "      <td>5.07</td>\n",
       "      <td>4.77</td>\n",
       "      <td>4.81</td>\n",
       "      <td>5.06</td>\n",
       "      <td>5.43</td>\n",
       "      <td>5.65</td>\n",
       "      <td>5.53</td>\n",
       "      <td>6.04</td>\n",
       "      <td>5.82</td>\n",
       "      <td>5.76</td>\n",
       "      <td>5.46</td>\n",
       "      <td>5.3</td>\n",
       "      <td>4.67</td>\n",
       "      <td>4.43</td>\n",
       "      <td>4.01</td>\n",
       "      <td>4.71</td>\n",
       "      <td>3.98</td>\n",
       "    </tr>\n",
       "    <tr>\n",
       "      <th>2</th>\n",
       "      <td>Algeria</td>\n",
       "      <td>0.56</td>\n",
       "      <td>0.56</td>\n",
       "      <td>0.56</td>\n",
       "      <td>0.54</td>\n",
       "      <td>0.49</td>\n",
       "      <td>0.44</td>\n",
       "      <td>0.39</td>\n",
       "      <td>0.48</td>\n",
       "      <td>0.43</td>\n",
       "      <td>0.39</td>\n",
       "      <td>0.43</td>\n",
       "      <td>0.55</td>\n",
       "      <td>0.52</td>\n",
       "      <td>0.39</td>\n",
       "      <td>0.43</td>\n",
       "      <td>0.27</td>\n",
       "      <td>0.32</td>\n",
       "    </tr>\n",
       "    <tr>\n",
       "      <th>3</th>\n",
       "      <td>Andorra</td>\n",
       "      <td>10.06</td>\n",
       "      <td>9.97</td>\n",
       "      <td>9.95</td>\n",
       "      <td>9.78</td>\n",
       "      <td>10.06</td>\n",
       "      <td>10.31</td>\n",
       "      <td>10.64</td>\n",
       "      <td>10.8</td>\n",
       "      <td>10.97</td>\n",
       "      <td>11.53</td>\n",
       "      <td>12.03</td>\n",
       "      <td>11.96</td>\n",
       "      <td>10.8</td>\n",
       "      <td>10.97</td>\n",
       "      <td>11.53</td>\n",
       "      <td>12.03</td>\n",
       "      <td>11.96</td>\n",
       "    </tr>\n",
       "    <tr>\n",
       "      <th>4</th>\n",
       "      <td>Angola</td>\n",
       "      <td>4.7</td>\n",
       "      <td>5.65</td>\n",
       "      <td>9</td>\n",
       "      <td>8.02</td>\n",
       "      <td>8.14</td>\n",
       "      <td>7.86</td>\n",
       "      <td>7.67</td>\n",
       "      <td>6.89</td>\n",
       "      <td>6.9</td>\n",
       "      <td>6.22</td>\n",
       "      <td>5.44</td>\n",
       "      <td>4.68</td>\n",
       "      <td>3.39</td>\n",
       "      <td>2.88</td>\n",
       "      <td>2.62</td>\n",
       "      <td>2.45</td>\n",
       "      <td>1.77</td>\n",
       "    </tr>\n",
       "  </tbody>\n",
       "</table>\n",
       "</div>"
      ],
      "text/plain": [
       "0      country   2016  2015  2014  2013   2012   2011   2010  2009   2008  \\\n",
       "0  Afghanistan    NaN  0.02  0.03  0.03   0.04   0.04   0.03  0.03   0.03   \n",
       "1      Albania   5.07  4.77  4.81  5.06   5.43   5.65   5.53  6.04   5.82   \n",
       "2      Algeria   0.56  0.56  0.56  0.54   0.49   0.44   0.39  0.48   0.43   \n",
       "3      Andorra  10.06  9.97  9.95  9.78  10.06  10.31  10.64  10.8  10.97   \n",
       "4       Angola    4.7  5.65     9  8.02   8.14   7.86   7.67  6.89    6.9   \n",
       "\n",
       "0   2007   2006   2005  2004   2003   2002   2001   2000  \n",
       "0   0.03   0.03   0.02  0.02   0.01   0.01      0      0  \n",
       "1   5.76   5.46    5.3  4.67   4.43   4.01   4.71   3.98  \n",
       "2   0.39   0.43   0.55  0.52   0.39   0.43   0.27   0.32  \n",
       "3  11.53  12.03  11.96  10.8  10.97  11.53  12.03  11.96  \n",
       "4   6.22   5.44   4.68  3.39   2.88   2.62   2.45   1.77  "
      ]
     },
     "execution_count": 6,
     "metadata": {},
     "output_type": "execute_result"
    }
   ],
   "source": [
    "alcohol_per_capita = modify_alcohol_databases(alcohol_per_capita)\n",
    "alcohol_per_capita_2 = modify_alcohol_databases(alcohol_per_capita_2)\n",
    "\n",
    "#Merge the two alcohol datasets together \n",
    "alcohol_per_capita_full = pd.merge(alcohol_per_capita, alcohol_per_capita_2, on=[\"country\"], how='outer')\n",
    "\n",
    "#Check everything's okay\n",
    "alcohol_per_capita_full.head()"
   ]
  },
  {
   "cell_type": "code",
   "execution_count": 7,
   "metadata": {},
   "outputs": [],
   "source": [
    "# Only keep years after 2000 from the databases - alcohol database is only from 2000 so no need to i\n",
    "\n",
    "def get_pre_2000_indexes(data):\n",
    "    less_than_2000_column_indexes = []\n",
    "    for column_name in data.columns.values[1:]: #don't include 'country' column\n",
    "        if (int(column_name) < 2000):\n",
    "            less_than_2000_column_indexes.append(data.columns.get_loc(column_name))\n",
    "    data = data.drop(data.columns[less_than_2000_column_indexes], axis=\"columns\")\n",
    "    return data"
   ]
  },
  {
   "cell_type": "code",
   "execution_count": 8,
   "metadata": {},
   "outputs": [],
   "source": [
    "unemployment_percentage = get_pre_2000_indexes(unemployment_percentage)\n",
    "poverty_percentage = get_pre_2000_indexes(poverty_percentage)\n",
    "murders_per_100000 = get_pre_2000_indexes(murders_per_100000)\n",
    "alcohol_per_capita_full = get_pre_2000_indexes(alcohol_per_capita_full)\n",
    "suicide_per_10000 = get_pre_2000_indexes(suicide_per_10000)\n"
   ]
  },
  {
   "cell_type": "markdown",
   "metadata": {},
   "source": [
    "Looking at all the data, it seems as though all of the dataframes are in the same format with the rows sorted by countries and columns as the years so I will need to re-arrange them all and combine them. However, before I do this, I am going to look at the mising values of each data files. I predict that certain countries will have lots of missing data rather than some years having missing data for lots of countries. I will investigate this and if this is the case, I will drop the countries with a substantial amount of missing data. "
   ]
  },
  {
   "cell_type": "code",
   "execution_count": 9,
   "metadata": {},
   "outputs": [
    {
     "data": {
      "text/html": [
       "<div>\n",
       "<style scoped>\n",
       "    .dataframe tbody tr th:only-of-type {\n",
       "        vertical-align: middle;\n",
       "    }\n",
       "\n",
       "    .dataframe tbody tr th {\n",
       "        vertical-align: top;\n",
       "    }\n",
       "\n",
       "    .dataframe thead th {\n",
       "        text-align: right;\n",
       "    }\n",
       "</style>\n",
       "<table border=\"1\" class=\"dataframe\">\n",
       "  <thead>\n",
       "    <tr style=\"text-align: right;\">\n",
       "      <th></th>\n",
       "      <th>country</th>\n",
       "      <th>2000</th>\n",
       "      <th>2001</th>\n",
       "      <th>2002</th>\n",
       "      <th>2003</th>\n",
       "      <th>2004</th>\n",
       "      <th>2005</th>\n",
       "      <th>2006</th>\n",
       "      <th>2007</th>\n",
       "      <th>2008</th>\n",
       "      <th>2009</th>\n",
       "      <th>2010</th>\n",
       "      <th>2011</th>\n",
       "      <th>2012</th>\n",
       "      <th>2013</th>\n",
       "      <th>2014</th>\n",
       "      <th>2015</th>\n",
       "      <th>2016</th>\n",
       "      <th>2017</th>\n",
       "    </tr>\n",
       "  </thead>\n",
       "  <tbody>\n",
       "    <tr>\n",
       "      <th>0</th>\n",
       "      <td>Afghanistan</td>\n",
       "      <td>NaN</td>\n",
       "      <td>NaN</td>\n",
       "      <td>NaN</td>\n",
       "      <td>NaN</td>\n",
       "      <td>NaN</td>\n",
       "      <td>NaN</td>\n",
       "      <td>NaN</td>\n",
       "      <td>36.3</td>\n",
       "      <td>NaN</td>\n",
       "      <td>NaN</td>\n",
       "      <td>NaN</td>\n",
       "      <td>35.8</td>\n",
       "      <td>NaN</td>\n",
       "      <td>NaN</td>\n",
       "      <td>NaN</td>\n",
       "      <td>NaN</td>\n",
       "      <td>NaN</td>\n",
       "      <td>NaN</td>\n",
       "    </tr>\n",
       "    <tr>\n",
       "      <th>1</th>\n",
       "      <td>Albania</td>\n",
       "      <td>NaN</td>\n",
       "      <td>NaN</td>\n",
       "      <td>25.4</td>\n",
       "      <td>NaN</td>\n",
       "      <td>NaN</td>\n",
       "      <td>18.5</td>\n",
       "      <td>NaN</td>\n",
       "      <td>NaN</td>\n",
       "      <td>12.4</td>\n",
       "      <td>NaN</td>\n",
       "      <td>NaN</td>\n",
       "      <td>NaN</td>\n",
       "      <td>14.3</td>\n",
       "      <td>NaN</td>\n",
       "      <td>NaN</td>\n",
       "      <td>NaN</td>\n",
       "      <td>NaN</td>\n",
       "      <td>NaN</td>\n",
       "    </tr>\n",
       "    <tr>\n",
       "      <th>2</th>\n",
       "      <td>Algeria</td>\n",
       "      <td>NaN</td>\n",
       "      <td>NaN</td>\n",
       "      <td>NaN</td>\n",
       "      <td>NaN</td>\n",
       "      <td>NaN</td>\n",
       "      <td>NaN</td>\n",
       "      <td>NaN</td>\n",
       "      <td>NaN</td>\n",
       "      <td>NaN</td>\n",
       "      <td>NaN</td>\n",
       "      <td>NaN</td>\n",
       "      <td>5.5</td>\n",
       "      <td>NaN</td>\n",
       "      <td>NaN</td>\n",
       "      <td>NaN</td>\n",
       "      <td>NaN</td>\n",
       "      <td>NaN</td>\n",
       "      <td>NaN</td>\n",
       "    </tr>\n",
       "    <tr>\n",
       "      <th>3</th>\n",
       "      <td>Angola</td>\n",
       "      <td>NaN</td>\n",
       "      <td>NaN</td>\n",
       "      <td>NaN</td>\n",
       "      <td>NaN</td>\n",
       "      <td>NaN</td>\n",
       "      <td>NaN</td>\n",
       "      <td>NaN</td>\n",
       "      <td>NaN</td>\n",
       "      <td>36.6</td>\n",
       "      <td>NaN</td>\n",
       "      <td>NaN</td>\n",
       "      <td>NaN</td>\n",
       "      <td>NaN</td>\n",
       "      <td>NaN</td>\n",
       "      <td>NaN</td>\n",
       "      <td>NaN</td>\n",
       "      <td>NaN</td>\n",
       "      <td>NaN</td>\n",
       "    </tr>\n",
       "    <tr>\n",
       "      <th>4</th>\n",
       "      <td>Argentina</td>\n",
       "      <td>NaN</td>\n",
       "      <td>NaN</td>\n",
       "      <td>NaN</td>\n",
       "      <td>NaN</td>\n",
       "      <td>NaN</td>\n",
       "      <td>NaN</td>\n",
       "      <td>NaN</td>\n",
       "      <td>NaN</td>\n",
       "      <td>NaN</td>\n",
       "      <td>NaN</td>\n",
       "      <td>NaN</td>\n",
       "      <td>NaN</td>\n",
       "      <td>NaN</td>\n",
       "      <td>NaN</td>\n",
       "      <td>NaN</td>\n",
       "      <td>NaN</td>\n",
       "      <td>30.3</td>\n",
       "      <td>NaN</td>\n",
       "    </tr>\n",
       "  </tbody>\n",
       "</table>\n",
       "</div>"
      ],
      "text/plain": [
       "       country  2000  2001  2002  2003  2004  2005  2006  2007  2008  2009  \\\n",
       "0  Afghanistan   NaN   NaN   NaN   NaN   NaN   NaN   NaN  36.3   NaN   NaN   \n",
       "1      Albania   NaN   NaN  25.4   NaN   NaN  18.5   NaN   NaN  12.4   NaN   \n",
       "2      Algeria   NaN   NaN   NaN   NaN   NaN   NaN   NaN   NaN   NaN   NaN   \n",
       "3       Angola   NaN   NaN   NaN   NaN   NaN   NaN   NaN   NaN  36.6   NaN   \n",
       "4    Argentina   NaN   NaN   NaN   NaN   NaN   NaN   NaN   NaN   NaN   NaN   \n",
       "\n",
       "   2010  2011  2012  2013  2014  2015  2016  2017  \n",
       "0   NaN  35.8   NaN   NaN   NaN   NaN   NaN   NaN  \n",
       "1   NaN   NaN  14.3   NaN   NaN   NaN   NaN   NaN  \n",
       "2   NaN   5.5   NaN   NaN   NaN   NaN   NaN   NaN  \n",
       "3   NaN   NaN   NaN   NaN   NaN   NaN   NaN   NaN  \n",
       "4   NaN   NaN   NaN   NaN   NaN   NaN  30.3   NaN  "
      ]
     },
     "execution_count": 9,
     "metadata": {},
     "output_type": "execute_result"
    }
   ],
   "source": [
    "poverty_percentage.head()"
   ]
  },
  {
   "cell_type": "code",
   "execution_count": 10,
   "metadata": {},
   "outputs": [
    {
     "data": {
      "text/html": [
       "<div>\n",
       "<style scoped>\n",
       "    .dataframe tbody tr th:only-of-type {\n",
       "        vertical-align: middle;\n",
       "    }\n",
       "\n",
       "    .dataframe tbody tr th {\n",
       "        vertical-align: top;\n",
       "    }\n",
       "\n",
       "    .dataframe thead th {\n",
       "        text-align: right;\n",
       "    }\n",
       "</style>\n",
       "<table border=\"1\" class=\"dataframe\">\n",
       "  <thead>\n",
       "    <tr style=\"text-align: right;\">\n",
       "      <th></th>\n",
       "      <th>country</th>\n",
       "      <th>2016</th>\n",
       "      <th>2015</th>\n",
       "      <th>2014</th>\n",
       "      <th>2013</th>\n",
       "      <th>2012</th>\n",
       "      <th>2011</th>\n",
       "      <th>2010</th>\n",
       "      <th>2009</th>\n",
       "      <th>2008</th>\n",
       "      <th>2007</th>\n",
       "      <th>2006</th>\n",
       "      <th>2005</th>\n",
       "      <th>2004</th>\n",
       "      <th>2003</th>\n",
       "      <th>2002</th>\n",
       "      <th>2001</th>\n",
       "      <th>2000</th>\n",
       "    </tr>\n",
       "  </thead>\n",
       "  <tbody>\n",
       "    <tr>\n",
       "      <th>0</th>\n",
       "      <td>Afghanistan</td>\n",
       "      <td>NaN</td>\n",
       "      <td>0.02</td>\n",
       "      <td>0.03</td>\n",
       "      <td>0.03</td>\n",
       "      <td>0.04</td>\n",
       "      <td>0.04</td>\n",
       "      <td>0.03</td>\n",
       "      <td>0.03</td>\n",
       "      <td>0.03</td>\n",
       "      <td>0.03</td>\n",
       "      <td>0.03</td>\n",
       "      <td>0.02</td>\n",
       "      <td>0.02</td>\n",
       "      <td>0.01</td>\n",
       "      <td>0.01</td>\n",
       "      <td>0</td>\n",
       "      <td>0</td>\n",
       "    </tr>\n",
       "    <tr>\n",
       "      <th>1</th>\n",
       "      <td>Albania</td>\n",
       "      <td>5.07</td>\n",
       "      <td>4.77</td>\n",
       "      <td>4.81</td>\n",
       "      <td>5.06</td>\n",
       "      <td>5.43</td>\n",
       "      <td>5.65</td>\n",
       "      <td>5.53</td>\n",
       "      <td>6.04</td>\n",
       "      <td>5.82</td>\n",
       "      <td>5.76</td>\n",
       "      <td>5.46</td>\n",
       "      <td>5.3</td>\n",
       "      <td>4.67</td>\n",
       "      <td>4.43</td>\n",
       "      <td>4.01</td>\n",
       "      <td>4.71</td>\n",
       "      <td>3.98</td>\n",
       "    </tr>\n",
       "    <tr>\n",
       "      <th>2</th>\n",
       "      <td>Algeria</td>\n",
       "      <td>0.56</td>\n",
       "      <td>0.56</td>\n",
       "      <td>0.56</td>\n",
       "      <td>0.54</td>\n",
       "      <td>0.49</td>\n",
       "      <td>0.44</td>\n",
       "      <td>0.39</td>\n",
       "      <td>0.48</td>\n",
       "      <td>0.43</td>\n",
       "      <td>0.39</td>\n",
       "      <td>0.43</td>\n",
       "      <td>0.55</td>\n",
       "      <td>0.52</td>\n",
       "      <td>0.39</td>\n",
       "      <td>0.43</td>\n",
       "      <td>0.27</td>\n",
       "      <td>0.32</td>\n",
       "    </tr>\n",
       "    <tr>\n",
       "      <th>3</th>\n",
       "      <td>Andorra</td>\n",
       "      <td>10.06</td>\n",
       "      <td>9.97</td>\n",
       "      <td>9.95</td>\n",
       "      <td>9.78</td>\n",
       "      <td>10.06</td>\n",
       "      <td>10.31</td>\n",
       "      <td>10.64</td>\n",
       "      <td>10.8</td>\n",
       "      <td>10.97</td>\n",
       "      <td>11.53</td>\n",
       "      <td>12.03</td>\n",
       "      <td>11.96</td>\n",
       "      <td>10.8</td>\n",
       "      <td>10.97</td>\n",
       "      <td>11.53</td>\n",
       "      <td>12.03</td>\n",
       "      <td>11.96</td>\n",
       "    </tr>\n",
       "    <tr>\n",
       "      <th>4</th>\n",
       "      <td>Angola</td>\n",
       "      <td>4.7</td>\n",
       "      <td>5.65</td>\n",
       "      <td>9</td>\n",
       "      <td>8.02</td>\n",
       "      <td>8.14</td>\n",
       "      <td>7.86</td>\n",
       "      <td>7.67</td>\n",
       "      <td>6.89</td>\n",
       "      <td>6.9</td>\n",
       "      <td>6.22</td>\n",
       "      <td>5.44</td>\n",
       "      <td>4.68</td>\n",
       "      <td>3.39</td>\n",
       "      <td>2.88</td>\n",
       "      <td>2.62</td>\n",
       "      <td>2.45</td>\n",
       "      <td>1.77</td>\n",
       "    </tr>\n",
       "  </tbody>\n",
       "</table>\n",
       "</div>"
      ],
      "text/plain": [
       "0      country   2016  2015  2014  2013   2012   2011   2010  2009   2008  \\\n",
       "0  Afghanistan    NaN  0.02  0.03  0.03   0.04   0.04   0.03  0.03   0.03   \n",
       "1      Albania   5.07  4.77  4.81  5.06   5.43   5.65   5.53  6.04   5.82   \n",
       "2      Algeria   0.56  0.56  0.56  0.54   0.49   0.44   0.39  0.48   0.43   \n",
       "3      Andorra  10.06  9.97  9.95  9.78  10.06  10.31  10.64  10.8  10.97   \n",
       "4       Angola    4.7  5.65     9  8.02   8.14   7.86   7.67  6.89    6.9   \n",
       "\n",
       "0   2007   2006   2005  2004   2003   2002   2001   2000  \n",
       "0   0.03   0.03   0.02  0.02   0.01   0.01      0      0  \n",
       "1   5.76   5.46    5.3  4.67   4.43   4.01   4.71   3.98  \n",
       "2   0.39   0.43   0.55  0.52   0.39   0.43   0.27   0.32  \n",
       "3  11.53  12.03  11.96  10.8  10.97  11.53  12.03  11.96  \n",
       "4   6.22   5.44   4.68  3.39   2.88   2.62   2.45   1.77  "
      ]
     },
     "execution_count": 10,
     "metadata": {},
     "output_type": "execute_result"
    }
   ],
   "source": [
    "alcohol_per_capita_full.head()"
   ]
  },
  {
   "cell_type": "markdown",
   "metadata": {},
   "source": [
    "<a id='Combining_the_dataframes'></a>"
   ]
  },
  {
   "cell_type": "markdown",
   "metadata": {},
   "source": [
    "## Combining the dataframes"
   ]
  },
  {
   "cell_type": "markdown",
   "metadata": {},
   "source": [
    "I want the dataframes to be able to combine to be in the format:\n",
    "year - country - rest of variables\n",
    "\n",
    "so I need to melt each dataframe so that it is of the form \n",
    "year - country - variable\n",
    "\n",
    "and then I will be able to combine them. "
   ]
  },
  {
   "cell_type": "code",
   "execution_count": 11,
   "metadata": {},
   "outputs": [],
   "source": [
    "unemployment_percentage = pd.melt(unemployment_percentage, id_vars=['country']).rename(columns={'variable':'year','value': \"unemployment_percentage\"}).sort_values(by=[\"country\", \"year\"]).reset_index().drop(\"index\", axis=\"columns\")\n"
   ]
  },
  {
   "cell_type": "code",
   "execution_count": 12,
   "metadata": {},
   "outputs": [
    {
     "data": {
      "text/html": [
       "<div>\n",
       "<style scoped>\n",
       "    .dataframe tbody tr th:only-of-type {\n",
       "        vertical-align: middle;\n",
       "    }\n",
       "\n",
       "    .dataframe tbody tr th {\n",
       "        vertical-align: top;\n",
       "    }\n",
       "\n",
       "    .dataframe thead th {\n",
       "        text-align: right;\n",
       "    }\n",
       "</style>\n",
       "<table border=\"1\" class=\"dataframe\">\n",
       "  <thead>\n",
       "    <tr style=\"text-align: right;\">\n",
       "      <th></th>\n",
       "      <th>country</th>\n",
       "      <th>year</th>\n",
       "      <th>unemployment_percentage</th>\n",
       "    </tr>\n",
       "  </thead>\n",
       "  <tbody>\n",
       "    <tr>\n",
       "      <th>0</th>\n",
       "      <td>Albania</td>\n",
       "      <td>2000</td>\n",
       "      <td>NaN</td>\n",
       "    </tr>\n",
       "    <tr>\n",
       "      <th>1</th>\n",
       "      <td>Albania</td>\n",
       "      <td>2001</td>\n",
       "      <td>NaN</td>\n",
       "    </tr>\n",
       "    <tr>\n",
       "      <th>2</th>\n",
       "      <td>Albania</td>\n",
       "      <td>2002</td>\n",
       "      <td>NaN</td>\n",
       "    </tr>\n",
       "    <tr>\n",
       "      <th>3</th>\n",
       "      <td>Albania</td>\n",
       "      <td>2003</td>\n",
       "      <td>NaN</td>\n",
       "    </tr>\n",
       "    <tr>\n",
       "      <th>4</th>\n",
       "      <td>Albania</td>\n",
       "      <td>2004</td>\n",
       "      <td>NaN</td>\n",
       "    </tr>\n",
       "  </tbody>\n",
       "</table>\n",
       "</div>"
      ],
      "text/plain": [
       "   country  year  unemployment_percentage\n",
       "0  Albania  2000                      NaN\n",
       "1  Albania  2001                      NaN\n",
       "2  Albania  2002                      NaN\n",
       "3  Albania  2003                      NaN\n",
       "4  Albania  2004                      NaN"
      ]
     },
     "execution_count": 12,
     "metadata": {},
     "output_type": "execute_result"
    }
   ],
   "source": [
    "unemployment_percentage.head()"
   ]
  },
  {
   "cell_type": "code",
   "execution_count": 13,
   "metadata": {},
   "outputs": [],
   "source": [
    "#Melting the rest of the dataframes\n",
    "\n",
    "poverty_percentage = pd.melt(poverty_percentage, id_vars=['country']).rename(columns={'variable':'year','value': \"poverty_percentage\"}).sort_values(by=[\"country\", \"year\"]).reset_index().drop(\"index\", axis=\"columns\")\n",
    "murders_per_100000 = pd.melt(murders_per_100000, id_vars=['country']).rename(columns={'variable':'year','value': \"murders_per_100000\"}).sort_values(by=[\"country\", \"year\"]).reset_index().drop(\"index\", axis=\"columns\")\n",
    "alcohol_per_capita_full = pd.melt(alcohol_per_capita_full, id_vars=['country']).rename(columns={0:\"year\", \"value\": \"alcohol_per_capita\"}).sort_values(by=[\"country\", \"year\"]).reset_index().drop(\"index\", axis=\"columns\")\n",
    "suicide_per_10000= pd.melt(suicide_per_10000, id_vars=['country']).rename(columns={'variable':'year','value': \"suicide_per_10000\"}).sort_values(by=[\"country\", \"year\"]).reset_index().drop(\"index\", axis=\"columns\")\n",
    "    "
   ]
  },
  {
   "cell_type": "code",
   "execution_count": 14,
   "metadata": {},
   "outputs": [
    {
     "data": {
      "text/html": [
       "<div>\n",
       "<style scoped>\n",
       "    .dataframe tbody tr th:only-of-type {\n",
       "        vertical-align: middle;\n",
       "    }\n",
       "\n",
       "    .dataframe tbody tr th {\n",
       "        vertical-align: top;\n",
       "    }\n",
       "\n",
       "    .dataframe thead th {\n",
       "        text-align: right;\n",
       "    }\n",
       "</style>\n",
       "<table border=\"1\" class=\"dataframe\">\n",
       "  <thead>\n",
       "    <tr style=\"text-align: right;\">\n",
       "      <th></th>\n",
       "      <th>country</th>\n",
       "      <th>year</th>\n",
       "      <th>poverty_percentage</th>\n",
       "    </tr>\n",
       "  </thead>\n",
       "  <tbody>\n",
       "    <tr>\n",
       "      <th>2425</th>\n",
       "      <td>Zimbabwe</td>\n",
       "      <td>2013</td>\n",
       "      <td>NaN</td>\n",
       "    </tr>\n",
       "    <tr>\n",
       "      <th>2426</th>\n",
       "      <td>Zimbabwe</td>\n",
       "      <td>2014</td>\n",
       "      <td>NaN</td>\n",
       "    </tr>\n",
       "    <tr>\n",
       "      <th>2427</th>\n",
       "      <td>Zimbabwe</td>\n",
       "      <td>2015</td>\n",
       "      <td>NaN</td>\n",
       "    </tr>\n",
       "    <tr>\n",
       "      <th>2428</th>\n",
       "      <td>Zimbabwe</td>\n",
       "      <td>2016</td>\n",
       "      <td>NaN</td>\n",
       "    </tr>\n",
       "    <tr>\n",
       "      <th>2429</th>\n",
       "      <td>Zimbabwe</td>\n",
       "      <td>2017</td>\n",
       "      <td>NaN</td>\n",
       "    </tr>\n",
       "  </tbody>\n",
       "</table>\n",
       "</div>"
      ],
      "text/plain": [
       "       country  year  poverty_percentage\n",
       "2425  Zimbabwe  2013                 NaN\n",
       "2426  Zimbabwe  2014                 NaN\n",
       "2427  Zimbabwe  2015                 NaN\n",
       "2428  Zimbabwe  2016                 NaN\n",
       "2429  Zimbabwe  2017                 NaN"
      ]
     },
     "execution_count": 14,
     "metadata": {},
     "output_type": "execute_result"
    }
   ],
   "source": [
    "poverty_percentage.tail()"
   ]
  },
  {
   "cell_type": "code",
   "execution_count": 15,
   "metadata": {},
   "outputs": [],
   "source": [
    "#Combine the dataframes where country and year are the same\n",
    "\n",
    "merge1 = pd.merge(unemployment_percentage, poverty_percentage, on=[\"country\", \"year\"], how='outer').sort_values(by=[\"country\", \"year\"])\n",
    "merge2 = pd.merge(merge1, murders_per_100000, on=[\"country\", \"year\"], how='outer').sort_values(by=[\"country\", \"year\"])\n",
    "merge3 = pd.merge(merge2, alcohol_per_capita_full, on=[\"country\", \"year\"], how='outer').sort_values(by=[\"country\", \"year\"])\n",
    "full_data = pd.merge(merge3, suicide_per_10000, on=[\"country\", \"year\"], how='outer').sort_values(by=[\"country\", \"year\"])\n"
   ]
  },
  {
   "cell_type": "code",
   "execution_count": 16,
   "metadata": {},
   "outputs": [
    {
     "data": {
      "text/html": [
       "<div>\n",
       "<style scoped>\n",
       "    .dataframe tbody tr th:only-of-type {\n",
       "        vertical-align: middle;\n",
       "    }\n",
       "\n",
       "    .dataframe tbody tr th {\n",
       "        vertical-align: top;\n",
       "    }\n",
       "\n",
       "    .dataframe thead th {\n",
       "        text-align: right;\n",
       "    }\n",
       "</style>\n",
       "<table border=\"1\" class=\"dataframe\">\n",
       "  <thead>\n",
       "    <tr style=\"text-align: right;\">\n",
       "      <th></th>\n",
       "      <th>country</th>\n",
       "      <th>year</th>\n",
       "      <th>unemployment_percentage</th>\n",
       "      <th>poverty_percentage</th>\n",
       "      <th>murders_per_100000</th>\n",
       "      <th>alcohol_per_capita</th>\n",
       "      <th>suicide_per_10000</th>\n",
       "    </tr>\n",
       "  </thead>\n",
       "  <tbody>\n",
       "    <tr>\n",
       "      <th>0</th>\n",
       "      <td>Afghanistan</td>\n",
       "      <td>2000</td>\n",
       "      <td>NaN</td>\n",
       "      <td>NaN</td>\n",
       "      <td>NaN</td>\n",
       "      <td>0</td>\n",
       "      <td>NaN</td>\n",
       "    </tr>\n",
       "    <tr>\n",
       "      <th>1</th>\n",
       "      <td>Afghanistan</td>\n",
       "      <td>2001</td>\n",
       "      <td>NaN</td>\n",
       "      <td>NaN</td>\n",
       "      <td>NaN</td>\n",
       "      <td>0</td>\n",
       "      <td>NaN</td>\n",
       "    </tr>\n",
       "    <tr>\n",
       "      <th>2</th>\n",
       "      <td>Afghanistan</td>\n",
       "      <td>2002</td>\n",
       "      <td>NaN</td>\n",
       "      <td>NaN</td>\n",
       "      <td>NaN</td>\n",
       "      <td>0.01</td>\n",
       "      <td>NaN</td>\n",
       "    </tr>\n",
       "    <tr>\n",
       "      <th>3</th>\n",
       "      <td>Afghanistan</td>\n",
       "      <td>2003</td>\n",
       "      <td>NaN</td>\n",
       "      <td>NaN</td>\n",
       "      <td>NaN</td>\n",
       "      <td>0.01</td>\n",
       "      <td>NaN</td>\n",
       "    </tr>\n",
       "    <tr>\n",
       "      <th>4</th>\n",
       "      <td>Afghanistan</td>\n",
       "      <td>2004</td>\n",
       "      <td>NaN</td>\n",
       "      <td>NaN</td>\n",
       "      <td>NaN</td>\n",
       "      <td>0.02</td>\n",
       "      <td>NaN</td>\n",
       "    </tr>\n",
       "  </tbody>\n",
       "</table>\n",
       "</div>"
      ],
      "text/plain": [
       "       country  year  unemployment_percentage  poverty_percentage  \\\n",
       "0  Afghanistan  2000                      NaN                 NaN   \n",
       "1  Afghanistan  2001                      NaN                 NaN   \n",
       "2  Afghanistan  2002                      NaN                 NaN   \n",
       "3  Afghanistan  2003                      NaN                 NaN   \n",
       "4  Afghanistan  2004                      NaN                 NaN   \n",
       "\n",
       "   murders_per_100000 alcohol_per_capita  suicide_per_10000  \n",
       "0                 NaN                  0                NaN  \n",
       "1                 NaN                  0                NaN  \n",
       "2                 NaN               0.01                NaN  \n",
       "3                 NaN               0.01                NaN  \n",
       "4                 NaN               0.02                NaN  "
      ]
     },
     "execution_count": 16,
     "metadata": {},
     "output_type": "execute_result"
    }
   ],
   "source": [
    "#Check everything is successfully merged\n",
    "\n",
    "full_data.head()"
   ]
  },
  {
   "cell_type": "code",
   "execution_count": 17,
   "metadata": {},
   "outputs": [
    {
     "name": "stdout",
     "output_type": "stream",
     "text": [
      "The length of the unemployment dataset was 2178, the length of the suicide dataset was 1768 and the length of the full dataset is 3960. This seems reasonable.\n"
     ]
    }
   ],
   "source": [
    "#Check that the size of the dataset looks reasonable. \n",
    "\n",
    "print(\"The length of the unemployment dataset was {0}, the length of the suicide dataset was {1} and the length of the full dataset is {2}. This seems reasonable.\".format(len(unemployment_percentage), len(suicide_per_10000), len(full_data)))"
   ]
  },
  {
   "cell_type": "markdown",
   "metadata": {},
   "source": [
    "<a id='Looking_at_and_dealing_with_missing_data'></a>"
   ]
  },
  {
   "cell_type": "markdown",
   "metadata": {},
   "source": [
    "# Looking at and dealing with missing data"
   ]
  },
  {
   "cell_type": "code",
   "execution_count": 18,
   "metadata": {},
   "outputs": [],
   "source": [
    "def missing_values_columns(data): \n",
    "    number_of_missing_values = data.isnull().sum()\n",
    "    percentage_missing = (data.isnull().sum())/data.isnull().count()\n",
    "    missing_values_table = pd.concat([percentage_missing, number_of_missing_values], axis=1, keys=[\"Percentage missing\", \"Number of missing values\"])\n",
    "    return missing_values_table.sort_values(\"Percentage missing\", ascending=False)\n",
    "\n",
    "def missing_values_rows(data): \n",
    "    number_of_missing_values = data.isnull().sum(axis=\"columns\")\n",
    "    percentage_missing = (data.isnull().sum(axis=\"columns\"))/data.isnull().count(axis=\"columns\")\n",
    "    missing_values_table = pd.concat([percentage_missing, number_of_missing_values], axis=1, keys=[\"Percentage missing\", \"Number of missing values\"])\n",
    "    return missing_values_table.sort_values(\"Percentage missing\", ascending=False)"
   ]
  },
  {
   "cell_type": "code",
   "execution_count": 19,
   "metadata": {},
   "outputs": [
    {
     "data": {
      "text/html": [
       "<div>\n",
       "<style scoped>\n",
       "    .dataframe tbody tr th:only-of-type {\n",
       "        vertical-align: middle;\n",
       "    }\n",
       "\n",
       "    .dataframe tbody tr th {\n",
       "        vertical-align: top;\n",
       "    }\n",
       "\n",
       "    .dataframe thead th {\n",
       "        text-align: right;\n",
       "    }\n",
       "</style>\n",
       "<table border=\"1\" class=\"dataframe\">\n",
       "  <thead>\n",
       "    <tr style=\"text-align: right;\">\n",
       "      <th></th>\n",
       "      <th>Percentage missing</th>\n",
       "      <th>Number of missing values</th>\n",
       "    </tr>\n",
       "  </thead>\n",
       "  <tbody>\n",
       "    <tr>\n",
       "      <th>poverty_percentage</th>\n",
       "      <td>0.815152</td>\n",
       "      <td>3228</td>\n",
       "    </tr>\n",
       "    <tr>\n",
       "      <th>murders_per_100000</th>\n",
       "      <td>0.801010</td>\n",
       "      <td>3172</td>\n",
       "    </tr>\n",
       "    <tr>\n",
       "      <th>suicide_per_10000</th>\n",
       "      <td>0.797980</td>\n",
       "      <td>3160</td>\n",
       "    </tr>\n",
       "    <tr>\n",
       "      <th>unemployment_percentage</th>\n",
       "      <td>0.700000</td>\n",
       "      <td>2772</td>\n",
       "    </tr>\n",
       "    <tr>\n",
       "      <th>alcohol_per_capita</th>\n",
       "      <td>0.209343</td>\n",
       "      <td>829</td>\n",
       "    </tr>\n",
       "    <tr>\n",
       "      <th>country</th>\n",
       "      <td>0.000000</td>\n",
       "      <td>0</td>\n",
       "    </tr>\n",
       "    <tr>\n",
       "      <th>year</th>\n",
       "      <td>0.000000</td>\n",
       "      <td>0</td>\n",
       "    </tr>\n",
       "  </tbody>\n",
       "</table>\n",
       "</div>"
      ],
      "text/plain": [
       "                         Percentage missing  Number of missing values\n",
       "poverty_percentage                 0.815152                      3228\n",
       "murders_per_100000                 0.801010                      3172\n",
       "suicide_per_10000                  0.797980                      3160\n",
       "unemployment_percentage            0.700000                      2772\n",
       "alcohol_per_capita                 0.209343                       829\n",
       "country                            0.000000                         0\n",
       "year                               0.000000                         0"
      ]
     },
     "execution_count": 19,
     "metadata": {},
     "output_type": "execute_result"
    }
   ],
   "source": [
    "missing_values_columns(full_data)"
   ]
  },
  {
   "cell_type": "code",
   "execution_count": 20,
   "metadata": {},
   "outputs": [
    {
     "data": {
      "text/plain": [
       "3960"
      ]
     },
     "execution_count": 20,
     "metadata": {},
     "output_type": "execute_result"
    }
   ],
   "source": [
    "len(full_data)"
   ]
  },
  {
   "cell_type": "code",
   "execution_count": 21,
   "metadata": {},
   "outputs": [],
   "source": [
    "full_data_copy = full_data.copy()\n",
    "full_data_copy = full_data_copy.transpose()"
   ]
  },
  {
   "cell_type": "code",
   "execution_count": 22,
   "metadata": {},
   "outputs": [],
   "source": [
    "#delete instances which have more than 40% missing data\n",
    "full_data_copy = full_data_copy.dropna(thresh=0.6*len(full_data_copy), axis=\"columns\")"
   ]
  },
  {
   "cell_type": "code",
   "execution_count": 23,
   "metadata": {},
   "outputs": [
    {
     "data": {
      "text/html": [
       "<div>\n",
       "<style scoped>\n",
       "    .dataframe tbody tr th:only-of-type {\n",
       "        vertical-align: middle;\n",
       "    }\n",
       "\n",
       "    .dataframe tbody tr th {\n",
       "        vertical-align: top;\n",
       "    }\n",
       "\n",
       "    .dataframe thead th {\n",
       "        text-align: right;\n",
       "    }\n",
       "</style>\n",
       "<table border=\"1\" class=\"dataframe\">\n",
       "  <thead>\n",
       "    <tr style=\"text-align: right;\">\n",
       "      <th></th>\n",
       "      <th>Percentage missing</th>\n",
       "      <th>Number of missing values</th>\n",
       "    </tr>\n",
       "  </thead>\n",
       "  <tbody>\n",
       "    <tr>\n",
       "      <th>poverty_percentage</th>\n",
       "      <td>0.596215</td>\n",
       "      <td>567</td>\n",
       "    </tr>\n",
       "    <tr>\n",
       "      <th>murders_per_100000</th>\n",
       "      <td>0.193481</td>\n",
       "      <td>184</td>\n",
       "    </tr>\n",
       "    <tr>\n",
       "      <th>suicide_per_10000</th>\n",
       "      <td>0.189274</td>\n",
       "      <td>180</td>\n",
       "    </tr>\n",
       "    <tr>\n",
       "      <th>unemployment_percentage</th>\n",
       "      <td>0.126183</td>\n",
       "      <td>120</td>\n",
       "    </tr>\n",
       "    <tr>\n",
       "      <th>alcohol_per_capita</th>\n",
       "      <td>0.117771</td>\n",
       "      <td>112</td>\n",
       "    </tr>\n",
       "    <tr>\n",
       "      <th>country</th>\n",
       "      <td>0.000000</td>\n",
       "      <td>0</td>\n",
       "    </tr>\n",
       "    <tr>\n",
       "      <th>year</th>\n",
       "      <td>0.000000</td>\n",
       "      <td>0</td>\n",
       "    </tr>\n",
       "  </tbody>\n",
       "</table>\n",
       "</div>"
      ],
      "text/plain": [
       "                         Percentage missing  Number of missing values\n",
       "poverty_percentage                 0.596215                       567\n",
       "murders_per_100000                 0.193481                       184\n",
       "suicide_per_10000                  0.189274                       180\n",
       "unemployment_percentage            0.126183                       120\n",
       "alcohol_per_capita                 0.117771                       112\n",
       "country                            0.000000                         0\n",
       "year                               0.000000                         0"
      ]
     },
     "execution_count": 23,
     "metadata": {},
     "output_type": "execute_result"
    }
   ],
   "source": [
    "missing_values_rows(full_data_copy)"
   ]
  },
  {
   "cell_type": "code",
   "execution_count": 24,
   "metadata": {
    "scrolled": true
   },
   "outputs": [
    {
     "data": {
      "text/plain": [
       "951"
      ]
     },
     "execution_count": 24,
     "metadata": {},
     "output_type": "execute_result"
    }
   ],
   "source": [
    "len(full_data_copy.columns)"
   ]
  },
  {
   "cell_type": "code",
   "execution_count": 25,
   "metadata": {
    "scrolled": true
   },
   "outputs": [
    {
     "data": {
      "text/plain": [
       "country                    object\n",
       "year                       object\n",
       "unemployment_percentage    object\n",
       "poverty_percentage         object\n",
       "murders_per_100000         object\n",
       "alcohol_per_capita         object\n",
       "suicide_per_10000          object\n",
       "dtype: object"
      ]
     },
     "execution_count": 25,
     "metadata": {},
     "output_type": "execute_result"
    }
   ],
   "source": [
    "full_data_copy = full_data_copy.transpose()\n",
    "full_data_copy.dtypes"
   ]
  },
  {
   "cell_type": "code",
   "execution_count": 26,
   "metadata": {},
   "outputs": [],
   "source": [
    "full_data_copy[\"country\"] = full_data_copy[\"country\"].astype(\"category\")"
   ]
  },
  {
   "cell_type": "code",
   "execution_count": 27,
   "metadata": {},
   "outputs": [],
   "source": [
    "numerical_columns = [\"year\", \"unemployment_percentage\", \"murders_per_100000\", \"poverty_percentage\", \"alcohol_per_capita\", \"suicide_per_10000\"]"
   ]
  },
  {
   "cell_type": "code",
   "execution_count": 28,
   "metadata": {},
   "outputs": [],
   "source": [
    "for columns in numerical_columns:\n",
    "    full_data_copy[columns] = full_data_copy[columns].astype(\"float\")"
   ]
  },
  {
   "cell_type": "code",
   "execution_count": 29,
   "metadata": {},
   "outputs": [
    {
     "data": {
      "text/plain": [
       "country                    category\n",
       "year                        float64\n",
       "unemployment_percentage     float64\n",
       "poverty_percentage          float64\n",
       "murders_per_100000          float64\n",
       "alcohol_per_capita          float64\n",
       "suicide_per_10000           float64\n",
       "dtype: object"
      ]
     },
     "execution_count": 29,
     "metadata": {},
     "output_type": "execute_result"
    }
   ],
   "source": [
    "full_data_copy.dtypes"
   ]
  },
  {
   "cell_type": "markdown",
   "metadata": {},
   "source": [
    "## Impute the missing values"
   ]
  },
  {
   "cell_type": "markdown",
   "metadata": {},
   "source": [
    "The poverty percentage feature has a high number of missing data (~60%), so I will drop this feature. The rest of the missing values are between 10% and 20% so I will impute these values using the average value of the feature for that country. \n",
    "\n",
    "I am also going to drop all the instances which don't have a suicide rate. Suicide rate is what I'm trying to predict, so it seesms counter-intuitive to build a model based of imputed guesses of suicide rate. "
   ]
  },
  {
   "cell_type": "code",
   "execution_count": 30,
   "metadata": {},
   "outputs": [
    {
     "data": {
      "text/html": [
       "<div>\n",
       "<style scoped>\n",
       "    .dataframe tbody tr th:only-of-type {\n",
       "        vertical-align: middle;\n",
       "    }\n",
       "\n",
       "    .dataframe tbody tr th {\n",
       "        vertical-align: top;\n",
       "    }\n",
       "\n",
       "    .dataframe thead th {\n",
       "        text-align: right;\n",
       "    }\n",
       "</style>\n",
       "<table border=\"1\" class=\"dataframe\">\n",
       "  <thead>\n",
       "    <tr style=\"text-align: right;\">\n",
       "      <th></th>\n",
       "      <th>country</th>\n",
       "      <th>year</th>\n",
       "      <th>unemployment_percentage</th>\n",
       "      <th>murders_per_100000</th>\n",
       "      <th>alcohol_per_capita</th>\n",
       "      <th>suicide_per_10000</th>\n",
       "    </tr>\n",
       "  </thead>\n",
       "  <tbody>\n",
       "    <tr>\n",
       "      <th>18</th>\n",
       "      <td>Albania</td>\n",
       "      <td>2000.0</td>\n",
       "      <td>NaN</td>\n",
       "      <td>3.96</td>\n",
       "      <td>3.98</td>\n",
       "      <td>1.88</td>\n",
       "    </tr>\n",
       "    <tr>\n",
       "      <th>19</th>\n",
       "      <td>Albania</td>\n",
       "      <td>2001.0</td>\n",
       "      <td>NaN</td>\n",
       "      <td>7.58</td>\n",
       "      <td>4.71</td>\n",
       "      <td>4.04</td>\n",
       "    </tr>\n",
       "    <tr>\n",
       "      <th>20</th>\n",
       "      <td>Albania</td>\n",
       "      <td>2002.0</td>\n",
       "      <td>NaN</td>\n",
       "      <td>7.40</td>\n",
       "      <td>4.01</td>\n",
       "      <td>4.53</td>\n",
       "    </tr>\n",
       "    <tr>\n",
       "      <th>21</th>\n",
       "      <td>Albania</td>\n",
       "      <td>2003.0</td>\n",
       "      <td>NaN</td>\n",
       "      <td>5.53</td>\n",
       "      <td>4.43</td>\n",
       "      <td>4.08</td>\n",
       "    </tr>\n",
       "    <tr>\n",
       "      <th>22</th>\n",
       "      <td>Albania</td>\n",
       "      <td>2004.0</td>\n",
       "      <td>NaN</td>\n",
       "      <td>4.29</td>\n",
       "      <td>4.67</td>\n",
       "      <td>4.72</td>\n",
       "    </tr>\n",
       "  </tbody>\n",
       "</table>\n",
       "</div>"
      ],
      "text/plain": [
       "    country    year  unemployment_percentage  murders_per_100000  \\\n",
       "18  Albania  2000.0                      NaN                3.96   \n",
       "19  Albania  2001.0                      NaN                7.58   \n",
       "20  Albania  2002.0                      NaN                7.40   \n",
       "21  Albania  2003.0                      NaN                5.53   \n",
       "22  Albania  2004.0                      NaN                4.29   \n",
       "\n",
       "    alcohol_per_capita  suicide_per_10000  \n",
       "18                3.98               1.88  \n",
       "19                4.71               4.04  \n",
       "20                4.01               4.53  \n",
       "21                4.43               4.08  \n",
       "22                4.67               4.72  "
      ]
     },
     "execution_count": 30,
     "metadata": {},
     "output_type": "execute_result"
    }
   ],
   "source": [
    "#Drop poverty percentage\n",
    "full_data_copy = full_data_copy.drop(\"poverty_percentage\", axis=\"columns\")\n",
    "full_data_copy.head()"
   ]
  },
  {
   "cell_type": "code",
   "execution_count": 31,
   "metadata": {},
   "outputs": [],
   "source": [
    "full_data_copy = full_data_copy.dropna(axis=0, subset=[\"suicide_per_10000\"])"
   ]
  },
  {
   "cell_type": "code",
   "execution_count": 32,
   "metadata": {},
   "outputs": [
    {
     "data": {
      "text/plain": [
       "(771, 6)"
      ]
     },
     "execution_count": 32,
     "metadata": {},
     "output_type": "execute_result"
    }
   ],
   "source": [
    "full_data_copy.shape"
   ]
  },
  {
   "cell_type": "code",
   "execution_count": 33,
   "metadata": {},
   "outputs": [
    {
     "data": {
      "text/plain": [
       "country                     67\n",
       "year                       771\n",
       "unemployment_percentage    625\n",
       "murders_per_100000         752\n",
       "alcohol_per_capita         615\n",
       "suicide_per_10000          702\n",
       "dtype: int64"
      ]
     },
     "execution_count": 33,
     "metadata": {},
     "output_type": "execute_result"
    }
   ],
   "source": [
    "full_data_copy.groupby(\"country\").nunique().sum()"
   ]
  },
  {
   "cell_type": "markdown",
   "metadata": {},
   "source": [
    "90 different countries is too many to encode, so I will take a look at how it correlates with suicide rates and then decide how to lessen the number of different countries. "
   ]
  },
  {
   "cell_type": "code",
   "execution_count": 34,
   "metadata": {},
   "outputs": [
    {
     "name": "stderr",
     "output_type": "stream",
     "text": [
      "/srv/conda/lib/python3.6/site-packages/scipy/stats/stats.py:1713: FutureWarning: Using a non-tuple sequence for multidimensional indexing is deprecated; use `arr[tuple(seq)]` instead of `arr[seq]`. In the future this will be interpreted as an array index, `arr[np.array(seq)]`, which will result either in an error or a different result.\n",
      "  return np.add.reduce(sorted[indexer] * weights, axis=axis) / sumval\n"
     ]
    },
    {
     "data": {
      "text/plain": [
       "[]"
      ]
     },
     "execution_count": 34,
     "metadata": {},
     "output_type": "execute_result"
    },
    {
     "data": {
      "image/png": "[encoded data removed]",
      "text/plain": [
       "<Figure size 1152x720 with 1 Axes>"
      ]
     },
     "metadata": {
      "needs_background": "light"
     },
     "output_type": "display_data"
    }
   ],
   "source": [
    "plt.figure(figsize=(16,10))\n",
    "barCountries = sns.barplot(x = \"country\", y = \"suicide_per_10000\", data=full_data_copy[[\"suicide_per_10000\", \"country\"]])\n",
    "barCountries.set_xticklabels(barCountries.get_xticklabels(), rotation=90)\n",
    "barCountries.set_title(\"Bar plot showing the suicide rates per 10000 in different countries\")\n",
    "barCountries.plot()"
   ]
  },
  {
   "cell_type": "markdown",
   "metadata": {},
   "source": [
    "Since country seems to have such a large effect on suicide rates, I am going to leave them as they are for now and not change them into continents. "
   ]
  },
  {
   "cell_type": "code",
   "execution_count": 35,
   "metadata": {},
   "outputs": [],
   "source": [
    "#Script for changing countries to continents\n",
    "\n",
    "#countries_to_continents = pd.read_csv(\"Countries-Continents.csv\")\n",
    "#countries_to_continents.head()\n",
    "#countries_dictionary = countries_to_continents.set_index(\"Country\").to_dict()[\"Continent\"]\n",
    "#full_data_copy = full_data_copy.replace(countries_dictionary)\n",
    "#full_data_copy.tail()\n",
    "\n",
    "#Now that the countries have been changed to continents, let's impute the missing data. "
   ]
  },
  {
   "cell_type": "code",
   "execution_count": 36,
   "metadata": {},
   "outputs": [],
   "source": [
    "#Split into training and test data before impution\n",
    "\n",
    "y = pd.DataFrame(full_data_copy[\"suicide_per_10000\"])\n",
    "X = full_data_copy.drop(\"suicide_per_10000\", axis=\"columns\")\n"
   ]
  },
  {
   "cell_type": "code",
   "execution_count": 37,
   "metadata": {},
   "outputs": [
    {
     "data": {
      "text/plain": [
       "country                    category\n",
       "year                        float64\n",
       "unemployment_percentage     float64\n",
       "murders_per_100000          float64\n",
       "alcohol_per_capita          float64\n",
       "suicide_per_10000           float64\n",
       "dtype: object"
      ]
     },
     "execution_count": 37,
     "metadata": {},
     "output_type": "execute_result"
    }
   ],
   "source": [
    "full_data_copy.dtypes"
   ]
  },
  {
   "cell_type": "code",
   "execution_count": 38,
   "metadata": {},
   "outputs": [],
   "source": [
    "X_train, X_test, y_train, y_test = train_test_split(X, y, random_state=36)"
   ]
  },
  {
   "cell_type": "code",
   "execution_count": 39,
   "metadata": {},
   "outputs": [],
   "source": [
    "meanImputer = SimpleImputer()\n",
    "modeImputer = SimpleImputer(strategy=\"most_frequent\")"
   ]
  },
  {
   "cell_type": "code",
   "execution_count": 40,
   "metadata": {},
   "outputs": [],
   "source": [
    "X_train_imputed = X_train.copy()\n",
    "X_test_imputed = X_test.copy()\n",
    "y_train_imputed = y_train.copy()\n",
    "y_test_imputed = y_train.copy()\n",
    "\n",
    "X_train_imputed.iloc[:,1:] = meanImputer.fit_transform(X_train.iloc[:,1:])\n",
    "X_test_imputed.iloc[:,1:] = meanImputer.transform(X_test.iloc[:,1:])\n",
    "\n",
    "X_train_imputed.iloc[:,:1] = modeImputer.fit_transform(X_train.iloc[:,:1])\n",
    "X_test_imputed.iloc[:,:1] = modeImputer.fit_transform(X_test.iloc[:,:1])\n"
   ]
  },
  {
   "cell_type": "code",
   "execution_count": 41,
   "metadata": {},
   "outputs": [
    {
     "data": {
      "text/html": [
       "<div>\n",
       "<style scoped>\n",
       "    .dataframe tbody tr th:only-of-type {\n",
       "        vertical-align: middle;\n",
       "    }\n",
       "\n",
       "    .dataframe tbody tr th {\n",
       "        vertical-align: top;\n",
       "    }\n",
       "\n",
       "    .dataframe thead th {\n",
       "        text-align: right;\n",
       "    }\n",
       "</style>\n",
       "<table border=\"1\" class=\"dataframe\">\n",
       "  <thead>\n",
       "    <tr style=\"text-align: right;\">\n",
       "      <th></th>\n",
       "      <th>Percentage missing</th>\n",
       "      <th>Number of missing values</th>\n",
       "    </tr>\n",
       "  </thead>\n",
       "  <tbody>\n",
       "    <tr>\n",
       "      <th>country</th>\n",
       "      <td>0.0</td>\n",
       "      <td>0</td>\n",
       "    </tr>\n",
       "    <tr>\n",
       "      <th>year</th>\n",
       "      <td>0.0</td>\n",
       "      <td>0</td>\n",
       "    </tr>\n",
       "    <tr>\n",
       "      <th>unemployment_percentage</th>\n",
       "      <td>0.0</td>\n",
       "      <td>0</td>\n",
       "    </tr>\n",
       "    <tr>\n",
       "      <th>murders_per_100000</th>\n",
       "      <td>0.0</td>\n",
       "      <td>0</td>\n",
       "    </tr>\n",
       "    <tr>\n",
       "      <th>alcohol_per_capita</th>\n",
       "      <td>0.0</td>\n",
       "      <td>0</td>\n",
       "    </tr>\n",
       "  </tbody>\n",
       "</table>\n",
       "</div>"
      ],
      "text/plain": [
       "                         Percentage missing  Number of missing values\n",
       "country                                 0.0                         0\n",
       "year                                    0.0                         0\n",
       "unemployment_percentage                 0.0                         0\n",
       "murders_per_100000                      0.0                         0\n",
       "alcohol_per_capita                      0.0                         0"
      ]
     },
     "execution_count": 41,
     "metadata": {},
     "output_type": "execute_result"
    }
   ],
   "source": [
    "missing_values_columns(X_train_imputed)"
   ]
  },
  {
   "cell_type": "markdown",
   "metadata": {},
   "source": [
    "No more missing data - perfect!"
   ]
  },
  {
   "cell_type": "markdown",
   "metadata": {},
   "source": [
    "<a id='Exploring_the_data'></a>"
   ]
  },
  {
   "cell_type": "markdown",
   "metadata": {},
   "source": [
    "# Exploring the data"
   ]
  },
  {
   "cell_type": "markdown",
   "metadata": {},
   "source": [
    "Hypotheses:\n",
    "\n",
    "    - an increase in alcohol per capital is correlated to increased suicide rates\n",
    "    - an increase in unemployment is correlated to increased suicide rates. \n",
    "    - an increase in murders is correlated to increased suicide rates. \n",
    "    - location affects suicide rates\n",
    "    "
   ]
  },
  {
   "cell_type": "markdown",
   "metadata": {},
   "source": [
    "## Heatmap of numerical data"
   ]
  },
  {
   "cell_type": "code",
   "execution_count": 42,
   "metadata": {},
   "outputs": [
    {
     "data": {
      "text/html": [
       "<div>\n",
       "<style scoped>\n",
       "    .dataframe tbody tr th:only-of-type {\n",
       "        vertical-align: middle;\n",
       "    }\n",
       "\n",
       "    .dataframe tbody tr th {\n",
       "        vertical-align: top;\n",
       "    }\n",
       "\n",
       "    .dataframe thead th {\n",
       "        text-align: right;\n",
       "    }\n",
       "</style>\n",
       "<table border=\"1\" class=\"dataframe\">\n",
       "  <thead>\n",
       "    <tr style=\"text-align: right;\">\n",
       "      <th></th>\n",
       "      <th>country</th>\n",
       "      <th>year</th>\n",
       "      <th>unemployment_percentage</th>\n",
       "      <th>murders_per_100000</th>\n",
       "      <th>alcohol_per_capita</th>\n",
       "    </tr>\n",
       "  </thead>\n",
       "  <tbody>\n",
       "    <tr>\n",
       "      <th>3207</th>\n",
       "      <td>Spain</td>\n",
       "      <td>2007.0</td>\n",
       "      <td>1.420000</td>\n",
       "      <td>0.668</td>\n",
       "      <td>11.050000</td>\n",
       "    </tr>\n",
       "    <tr>\n",
       "      <th>2518</th>\n",
       "      <td>Norway</td>\n",
       "      <td>2009.0</td>\n",
       "      <td>0.497000</td>\n",
       "      <td>0.604</td>\n",
       "      <td>6.680000</td>\n",
       "    </tr>\n",
       "    <tr>\n",
       "      <th>126</th>\n",
       "      <td>Armenia</td>\n",
       "      <td>2002.0</td>\n",
       "      <td>2.273616</td>\n",
       "      <td>2.250</td>\n",
       "      <td>2.930000</td>\n",
       "    </tr>\n",
       "    <tr>\n",
       "      <th>2510</th>\n",
       "      <td>Norway</td>\n",
       "      <td>2001.0</td>\n",
       "      <td>0.365000</td>\n",
       "      <td>0.783</td>\n",
       "      <td>5.490000</td>\n",
       "    </tr>\n",
       "    <tr>\n",
       "      <th>1787</th>\n",
       "      <td>Kyrgyz Republic</td>\n",
       "      <td>2007.0</td>\n",
       "      <td>2.273616</td>\n",
       "      <td>6.390</td>\n",
       "      <td>8.485394</td>\n",
       "    </tr>\n",
       "  </tbody>\n",
       "</table>\n",
       "</div>"
      ],
      "text/plain": [
       "              country    year  unemployment_percentage  murders_per_100000  \\\n",
       "3207            Spain  2007.0                 1.420000               0.668   \n",
       "2518           Norway  2009.0                 0.497000               0.604   \n",
       "126           Armenia  2002.0                 2.273616               2.250   \n",
       "2510           Norway  2001.0                 0.365000               0.783   \n",
       "1787  Kyrgyz Republic  2007.0                 2.273616               6.390   \n",
       "\n",
       "      alcohol_per_capita  \n",
       "3207           11.050000  \n",
       "2518            6.680000  \n",
       "126             2.930000  \n",
       "2510            5.490000  \n",
       "1787            8.485394  "
      ]
     },
     "execution_count": 42,
     "metadata": {},
     "output_type": "execute_result"
    }
   ],
   "source": [
    "X_train_imputed.head()"
   ]
  },
  {
   "cell_type": "code",
   "execution_count": 43,
   "metadata": {},
   "outputs": [
    {
     "data": {
      "text/html": [
       "<div>\n",
       "<style scoped>\n",
       "    .dataframe tbody tr th:only-of-type {\n",
       "        vertical-align: middle;\n",
       "    }\n",
       "\n",
       "    .dataframe tbody tr th {\n",
       "        vertical-align: top;\n",
       "    }\n",
       "\n",
       "    .dataframe thead th {\n",
       "        text-align: right;\n",
       "    }\n",
       "</style>\n",
       "<table border=\"1\" class=\"dataframe\">\n",
       "  <thead>\n",
       "    <tr style=\"text-align: right;\">\n",
       "      <th></th>\n",
       "      <th>suicide_per_10000</th>\n",
       "    </tr>\n",
       "  </thead>\n",
       "  <tbody>\n",
       "    <tr>\n",
       "      <th>3207</th>\n",
       "      <td>5.38</td>\n",
       "    </tr>\n",
       "    <tr>\n",
       "      <th>2518</th>\n",
       "      <td>10.70</td>\n",
       "    </tr>\n",
       "    <tr>\n",
       "      <th>126</th>\n",
       "      <td>2.15</td>\n",
       "    </tr>\n",
       "    <tr>\n",
       "      <th>2510</th>\n",
       "      <td>11.30</td>\n",
       "    </tr>\n",
       "    <tr>\n",
       "      <th>1787</th>\n",
       "      <td>9.73</td>\n",
       "    </tr>\n",
       "  </tbody>\n",
       "</table>\n",
       "</div>"
      ],
      "text/plain": [
       "      suicide_per_10000\n",
       "3207               5.38\n",
       "2518              10.70\n",
       "126                2.15\n",
       "2510              11.30\n",
       "1787               9.73"
      ]
     },
     "execution_count": 43,
     "metadata": {},
     "output_type": "execute_result"
    }
   ],
   "source": [
    "y_train_imputed.head()"
   ]
  },
  {
   "cell_type": "code",
   "execution_count": 44,
   "metadata": {},
   "outputs": [],
   "source": [
    "all_training_data = pd.concat([X_train_imputed, y_train], axis=\"columns\")"
   ]
  },
  {
   "cell_type": "code",
   "execution_count": 45,
   "metadata": {},
   "outputs": [
    {
     "data": {
      "text/html": [
       "<div>\n",
       "<style scoped>\n",
       "    .dataframe tbody tr th:only-of-type {\n",
       "        vertical-align: middle;\n",
       "    }\n",
       "\n",
       "    .dataframe tbody tr th {\n",
       "        vertical-align: top;\n",
       "    }\n",
       "\n",
       "    .dataframe thead th {\n",
       "        text-align: right;\n",
       "    }\n",
       "</style>\n",
       "<table border=\"1\" class=\"dataframe\">\n",
       "  <thead>\n",
       "    <tr style=\"text-align: right;\">\n",
       "      <th></th>\n",
       "      <th>country</th>\n",
       "      <th>year</th>\n",
       "      <th>unemployment_percentage</th>\n",
       "      <th>murders_per_100000</th>\n",
       "      <th>alcohol_per_capita</th>\n",
       "      <th>suicide_per_10000</th>\n",
       "    </tr>\n",
       "  </thead>\n",
       "  <tbody>\n",
       "    <tr>\n",
       "      <th>3207</th>\n",
       "      <td>Spain</td>\n",
       "      <td>2007.0</td>\n",
       "      <td>1.420000</td>\n",
       "      <td>0.668</td>\n",
       "      <td>11.050000</td>\n",
       "      <td>5.38</td>\n",
       "    </tr>\n",
       "    <tr>\n",
       "      <th>2518</th>\n",
       "      <td>Norway</td>\n",
       "      <td>2009.0</td>\n",
       "      <td>0.497000</td>\n",
       "      <td>0.604</td>\n",
       "      <td>6.680000</td>\n",
       "      <td>10.70</td>\n",
       "    </tr>\n",
       "    <tr>\n",
       "      <th>126</th>\n",
       "      <td>Armenia</td>\n",
       "      <td>2002.0</td>\n",
       "      <td>2.273616</td>\n",
       "      <td>2.250</td>\n",
       "      <td>2.930000</td>\n",
       "      <td>2.15</td>\n",
       "    </tr>\n",
       "    <tr>\n",
       "      <th>2510</th>\n",
       "      <td>Norway</td>\n",
       "      <td>2001.0</td>\n",
       "      <td>0.365000</td>\n",
       "      <td>0.783</td>\n",
       "      <td>5.490000</td>\n",
       "      <td>11.30</td>\n",
       "    </tr>\n",
       "    <tr>\n",
       "      <th>1787</th>\n",
       "      <td>Kyrgyz Republic</td>\n",
       "      <td>2007.0</td>\n",
       "      <td>2.273616</td>\n",
       "      <td>6.390</td>\n",
       "      <td>8.485394</td>\n",
       "      <td>9.73</td>\n",
       "    </tr>\n",
       "  </tbody>\n",
       "</table>\n",
       "</div>"
      ],
      "text/plain": [
       "              country    year  unemployment_percentage  murders_per_100000  \\\n",
       "3207            Spain  2007.0                 1.420000               0.668   \n",
       "2518           Norway  2009.0                 0.497000               0.604   \n",
       "126           Armenia  2002.0                 2.273616               2.250   \n",
       "2510           Norway  2001.0                 0.365000               0.783   \n",
       "1787  Kyrgyz Republic  2007.0                 2.273616               6.390   \n",
       "\n",
       "      alcohol_per_capita  suicide_per_10000  \n",
       "3207           11.050000               5.38  \n",
       "2518            6.680000              10.70  \n",
       "126             2.930000               2.15  \n",
       "2510            5.490000              11.30  \n",
       "1787            8.485394               9.73  "
      ]
     },
     "execution_count": 45,
     "metadata": {},
     "output_type": "execute_result"
    }
   ],
   "source": [
    "all_training_data.head()"
   ]
  },
  {
   "cell_type": "code",
   "execution_count": 46,
   "metadata": {},
   "outputs": [],
   "source": [
    "training_data_without_continent = all_training_data.iloc[:,1:]"
   ]
  },
  {
   "cell_type": "code",
   "execution_count": 47,
   "metadata": {},
   "outputs": [],
   "source": [
    "training_data_without_continent = pd.DataFrame(training_data_without_continent)"
   ]
  },
  {
   "cell_type": "code",
   "execution_count": 48,
   "metadata": {},
   "outputs": [
    {
     "data": {
      "text/plain": [
       "year                       float64\n",
       "unemployment_percentage    float64\n",
       "murders_per_100000         float64\n",
       "alcohol_per_capita         float64\n",
       "suicide_per_10000          float64\n",
       "dtype: object"
      ]
     },
     "execution_count": 48,
     "metadata": {},
     "output_type": "execute_result"
    }
   ],
   "source": [
    "training_data_without_continent.dtypes"
   ]
  },
  {
   "cell_type": "code",
   "execution_count": 49,
   "metadata": {},
   "outputs": [
    {
     "data": {
      "image/png": "[encoded data removed]",
      "text/plain": [
       "<Figure size 432x288 with 2 Axes>"
      ]
     },
     "metadata": {
      "needs_background": "light"
     },
     "output_type": "display_data"
    }
   ],
   "source": [
    "ax = sns.heatmap(training_data_without_continent.corr())"
   ]
  },
  {
   "cell_type": "markdown",
   "metadata": {},
   "source": [
    "From the heatmap, I can see that there is a positive correlation between suicide rates and alcohol and suicide rates and murders, and that there is low correlation between the other features. This is good as we don't appear to have redundant features from other features being correlated. Let me investigate further. "
   ]
  },
  {
   "cell_type": "code",
   "execution_count": 50,
   "metadata": {},
   "outputs": [
    {
     "name": "stderr",
     "output_type": "stream",
     "text": [
      "/srv/conda/lib/python3.6/site-packages/scipy/stats/stats.py:1713: FutureWarning: Using a non-tuple sequence for multidimensional indexing is deprecated; use `arr[tuple(seq)]` instead of `arr[seq]`. In the future this will be interpreted as an array index, `arr[np.array(seq)]`, which will result either in an error or a different result.\n",
      "  return np.add.reduce(sorted[indexer] * weights, axis=axis) / sumval\n"
     ]
    },
    {
     "data": {
      "image/png": "[encoded data removed]",
      "text/plain": [
       "<Figure size 900x900 with 30 Axes>"
      ]
     },
     "metadata": {
      "needs_background": "light"
     },
     "output_type": "display_data"
    }
   ],
   "source": [
    "ax2 = sns.pairplot(training_data_without_continent, kind = \"reg\")"
   ]
  },
  {
   "cell_type": "markdown",
   "metadata": {},
   "source": [
    "As expected, suicide has a positive correlation with both alcohol per capita. It also has a correlation with murder rates, although not particularly with unemployment rates. Year appears to be correlated most highly with murder rates and slighly with suicide rates - I won't remove anything at this stage but I will keep in mind that I may see how the future model performs without year or unemployment rate (doesn't appear to be correlated with suicide rates at all)."
   ]
  },
  {
   "cell_type": "markdown",
   "metadata": {},
   "source": [
    "<a id='Lets_start_modelling'></a>"
   ]
  },
  {
   "cell_type": "markdown",
   "metadata": {},
   "source": [
    "# Let's start modelling! "
   ]
  },
  {
   "cell_type": "markdown",
   "metadata": {},
   "source": [
    "We want to be predicting the % of a population who will commit suicide - therefore we need to be performing regression as we want a numerical output. Let's first start off with linear regression since it is the simplest model and often simpler performs better, if not just as well as complex models.  "
   ]
  },
  {
   "cell_type": "code",
   "execution_count": 51,
   "metadata": {},
   "outputs": [],
   "source": [
    "#Convert the categorical data to numerical via one hot encoding. "
   ]
  },
  {
   "cell_type": "code",
   "execution_count": 52,
   "metadata": {},
   "outputs": [],
   "source": [
    "full_country_list = full_data_copy[\"country\"].unique()"
   ]
  },
  {
   "cell_type": "code",
   "execution_count": 53,
   "metadata": {},
   "outputs": [
    {
     "name": "stderr",
     "output_type": "stream",
     "text": [
      "/srv/conda/lib/python3.6/site-packages/ipykernel_launcher.py:2: FutureWarning: specifying 'categories' or 'ordered' in .astype() is deprecated; pass a CategoricalDtype instead\n",
      "  \n",
      "/srv/conda/lib/python3.6/site-packages/ipykernel_launcher.py:3: FutureWarning: specifying 'categories' or 'ordered' in .astype() is deprecated; pass a CategoricalDtype instead\n",
      "  This is separate from the ipykernel package so we can avoid doing imports until\n"
     ]
    }
   ],
   "source": [
    "#Make sure that one-hot-encoding will result in same number of features \n",
    "X_train_imputed[\"country\"] = X_train_imputed[\"country\"].astype(\"category\", categories = full_country_list)\n",
    "X_test_imputed[\"country\"] = X_test_imputed[\"country\"].astype(\"category\", categories = full_country_list)"
   ]
  },
  {
   "cell_type": "code",
   "execution_count": 54,
   "metadata": {},
   "outputs": [],
   "source": [
    "X_train_encoded = pd.get_dummies(X_train_imputed)\n",
    "X_test_encoded = pd.get_dummies(X_test_imputed)"
   ]
  },
  {
   "cell_type": "markdown",
   "metadata": {},
   "source": [
    "## Linear Regression"
   ]
  },
  {
   "cell_type": "code",
   "execution_count": 55,
   "metadata": {
    "scrolled": true
   },
   "outputs": [
    {
     "data": {
      "text/plain": [
       "LinearRegression(copy_X=True, fit_intercept=True, n_jobs=None,\n",
       "         normalize=False)"
      ]
     },
     "execution_count": 55,
     "metadata": {},
     "output_type": "execute_result"
    }
   ],
   "source": [
    "linear1 = LinearRegression()\n",
    "linear1.fit(X_train_encoded, y_train)"
   ]
  },
  {
   "cell_type": "code",
   "execution_count": 56,
   "metadata": {},
   "outputs": [
    {
     "data": {
      "text/plain": [
       "-3.653967604618757e+17"
      ]
     },
     "execution_count": 56,
     "metadata": {},
     "output_type": "execute_result"
    }
   ],
   "source": [
    "linear1.score(X_test_encoded, y_test)"
   ]
  },
  {
   "cell_type": "code",
   "execution_count": 57,
   "metadata": {},
   "outputs": [],
   "source": [
    "predictions = linear1.predict(X_train_encoded).shape"
   ]
  },
  {
   "cell_type": "code",
   "execution_count": 58,
   "metadata": {},
   "outputs": [],
   "source": [
    "from sklearn import linear_model"
   ]
  },
  {
   "cell_type": "code",
   "execution_count": 59,
   "metadata": {},
   "outputs": [
    {
     "name": "stderr",
     "output_type": "stream",
     "text": [
      "/srv/conda/lib/python3.6/site-packages/sklearn/linear_model/stochastic_gradient.py:166: FutureWarning: max_iter and tol parameters have been added in SGDRegressor in 0.19. If both are left unset, they default to max_iter=5 and tol=None. If tol is not None, max_iter defaults to max_iter=1000. From 0.21, default max_iter will be 1000, and default tol will be 1e-3.\n",
      "  FutureWarning)\n",
      "/srv/conda/lib/python3.6/site-packages/sklearn/utils/validation.py:761: DataConversionWarning: A column-vector y was passed when a 1d array was expected. Please change the shape of y to (n_samples, ), for example using ravel().\n",
      "  y = column_or_1d(y, warn=True)\n"
     ]
    },
    {
     "data": {
      "text/plain": [
       "SGDRegressor(alpha=0.0001, average=False, early_stopping=False, epsilon=0.1,\n",
       "       eta0=0.01, fit_intercept=True, l1_ratio=0.15,\n",
       "       learning_rate='invscaling', loss='squared_loss', max_iter=None,\n",
       "       n_iter=None, n_iter_no_change=5, penalty='l2', power_t=0.25,\n",
       "       random_state=None, shuffle=True, tol=None, validation_fraction=0.1,\n",
       "       verbose=0, warm_start=False)"
      ]
     },
     "execution_count": 59,
     "metadata": {},
     "output_type": "execute_result"
    }
   ],
   "source": [
    "sgdReg = linear_model.SGDRegressor()\n",
    "sgdReg.fit(X_train_encoded, y_train)"
   ]
  },
  {
   "cell_type": "code",
   "execution_count": 60,
   "metadata": {},
   "outputs": [
    {
     "data": {
      "text/plain": [
       "-6.623383849984942e+29"
      ]
     },
     "execution_count": 60,
     "metadata": {},
     "output_type": "execute_result"
    }
   ],
   "source": [
    "sgdReg.score(X_train_encoded, y_train)"
   ]
  },
  {
   "cell_type": "code",
   "execution_count": 61,
   "metadata": {},
   "outputs": [
    {
     "data": {
      "text/plain": [
       "0.3726380758574859"
      ]
     },
     "execution_count": 61,
     "metadata": {},
     "output_type": "execute_result"
    }
   ],
   "source": [
    "linear2 = linear_model.Lasso()\n",
    "linear2.fit(X_train_encoded, y_train)\n",
    "\n",
    "linear2.score(X_test_encoded, y_test)"
   ]
  },
  {
   "cell_type": "code",
   "execution_count": 62,
   "metadata": {},
   "outputs": [
    {
     "data": {
      "text/plain": [
       "array([0.49920537, 0.52032062, 0.29730759, 0.34769022, 0.34869584])"
      ]
     },
     "execution_count": 62,
     "metadata": {},
     "output_type": "execute_result"
    }
   ],
   "source": [
    "#train the imputer but don't yet impute the values \n",
    "cross_val_score(linear2, X_train_encoded, y_train, cv=5)"
   ]
  },
  {
   "cell_type": "code",
   "execution_count": 63,
   "metadata": {},
   "outputs": [],
   "source": [
    "testing_array = X_train_encoded[:1:].values"
   ]
  },
  {
   "cell_type": "code",
   "execution_count": 64,
   "metadata": {},
   "outputs": [
    {
     "data": {
      "text/plain": [
       "array([11.36070482])"
      ]
     },
     "execution_count": 64,
     "metadata": {},
     "output_type": "execute_result"
    }
   ],
   "source": [
    "linear2.predict(testing_array)"
   ]
  },
  {
   "cell_type": "code",
   "execution_count": 65,
   "metadata": {
    "scrolled": true
   },
   "outputs": [
    {
     "data": {
      "text/html": [
       "<div>\n",
       "<style scoped>\n",
       "    .dataframe tbody tr th:only-of-type {\n",
       "        vertical-align: middle;\n",
       "    }\n",
       "\n",
       "    .dataframe tbody tr th {\n",
       "        vertical-align: top;\n",
       "    }\n",
       "\n",
       "    .dataframe thead th {\n",
       "        text-align: right;\n",
       "    }\n",
       "</style>\n",
       "<table border=\"1\" class=\"dataframe\">\n",
       "  <thead>\n",
       "    <tr style=\"text-align: right;\">\n",
       "      <th></th>\n",
       "      <th>year</th>\n",
       "      <th>unemployment_percentage</th>\n",
       "      <th>murders_per_100000</th>\n",
       "      <th>alcohol_per_capita</th>\n",
       "      <th>country_Albania</th>\n",
       "      <th>country_Armenia</th>\n",
       "      <th>country_Australia</th>\n",
       "      <th>country_Austria</th>\n",
       "      <th>country_Azerbaijan</th>\n",
       "      <th>country_Bahrain</th>\n",
       "      <th>...</th>\n",
       "      <th>country_Sweden</th>\n",
       "      <th>country_Switzerland</th>\n",
       "      <th>country_Tajikistan</th>\n",
       "      <th>country_Thailand</th>\n",
       "      <th>country_Tunisia</th>\n",
       "      <th>country_Turkey</th>\n",
       "      <th>country_Ukraine</th>\n",
       "      <th>country_United Kingdom</th>\n",
       "      <th>country_United States</th>\n",
       "      <th>country_Uzbekistan</th>\n",
       "    </tr>\n",
       "  </thead>\n",
       "  <tbody>\n",
       "    <tr>\n",
       "      <th>3207</th>\n",
       "      <td>2007.0</td>\n",
       "      <td>1.420000</td>\n",
       "      <td>0.668</td>\n",
       "      <td>11.050000</td>\n",
       "      <td>0</td>\n",
       "      <td>0</td>\n",
       "      <td>0</td>\n",
       "      <td>0</td>\n",
       "      <td>0</td>\n",
       "      <td>0</td>\n",
       "      <td>...</td>\n",
       "      <td>0</td>\n",
       "      <td>0</td>\n",
       "      <td>0</td>\n",
       "      <td>0</td>\n",
       "      <td>0</td>\n",
       "      <td>0</td>\n",
       "      <td>0</td>\n",
       "      <td>0</td>\n",
       "      <td>0</td>\n",
       "      <td>0</td>\n",
       "    </tr>\n",
       "    <tr>\n",
       "      <th>2518</th>\n",
       "      <td>2009.0</td>\n",
       "      <td>0.497000</td>\n",
       "      <td>0.604</td>\n",
       "      <td>6.680000</td>\n",
       "      <td>0</td>\n",
       "      <td>0</td>\n",
       "      <td>0</td>\n",
       "      <td>0</td>\n",
       "      <td>0</td>\n",
       "      <td>0</td>\n",
       "      <td>...</td>\n",
       "      <td>0</td>\n",
       "      <td>0</td>\n",
       "      <td>0</td>\n",
       "      <td>0</td>\n",
       "      <td>0</td>\n",
       "      <td>0</td>\n",
       "      <td>0</td>\n",
       "      <td>0</td>\n",
       "      <td>0</td>\n",
       "      <td>0</td>\n",
       "    </tr>\n",
       "    <tr>\n",
       "      <th>126</th>\n",
       "      <td>2002.0</td>\n",
       "      <td>2.273616</td>\n",
       "      <td>2.250</td>\n",
       "      <td>2.930000</td>\n",
       "      <td>0</td>\n",
       "      <td>1</td>\n",
       "      <td>0</td>\n",
       "      <td>0</td>\n",
       "      <td>0</td>\n",
       "      <td>0</td>\n",
       "      <td>...</td>\n",
       "      <td>0</td>\n",
       "      <td>0</td>\n",
       "      <td>0</td>\n",
       "      <td>0</td>\n",
       "      <td>0</td>\n",
       "      <td>0</td>\n",
       "      <td>0</td>\n",
       "      <td>0</td>\n",
       "      <td>0</td>\n",
       "      <td>0</td>\n",
       "    </tr>\n",
       "    <tr>\n",
       "      <th>2510</th>\n",
       "      <td>2001.0</td>\n",
       "      <td>0.365000</td>\n",
       "      <td>0.783</td>\n",
       "      <td>5.490000</td>\n",
       "      <td>0</td>\n",
       "      <td>0</td>\n",
       "      <td>0</td>\n",
       "      <td>0</td>\n",
       "      <td>0</td>\n",
       "      <td>0</td>\n",
       "      <td>...</td>\n",
       "      <td>0</td>\n",
       "      <td>0</td>\n",
       "      <td>0</td>\n",
       "      <td>0</td>\n",
       "      <td>0</td>\n",
       "      <td>0</td>\n",
       "      <td>0</td>\n",
       "      <td>0</td>\n",
       "      <td>0</td>\n",
       "      <td>0</td>\n",
       "    </tr>\n",
       "    <tr>\n",
       "      <th>1787</th>\n",
       "      <td>2007.0</td>\n",
       "      <td>2.273616</td>\n",
       "      <td>6.390</td>\n",
       "      <td>8.485394</td>\n",
       "      <td>0</td>\n",
       "      <td>0</td>\n",
       "      <td>0</td>\n",
       "      <td>0</td>\n",
       "      <td>0</td>\n",
       "      <td>0</td>\n",
       "      <td>...</td>\n",
       "      <td>0</td>\n",
       "      <td>0</td>\n",
       "      <td>0</td>\n",
       "      <td>0</td>\n",
       "      <td>0</td>\n",
       "      <td>0</td>\n",
       "      <td>0</td>\n",
       "      <td>0</td>\n",
       "      <td>0</td>\n",
       "      <td>0</td>\n",
       "    </tr>\n",
       "  </tbody>\n",
       "</table>\n",
       "<p>5 rows × 71 columns</p>\n",
       "</div>"
      ],
      "text/plain": [
       "        year  unemployment_percentage  murders_per_100000  alcohol_per_capita  \\\n",
       "3207  2007.0                 1.420000               0.668           11.050000   \n",
       "2518  2009.0                 0.497000               0.604            6.680000   \n",
       "126   2002.0                 2.273616               2.250            2.930000   \n",
       "2510  2001.0                 0.365000               0.783            5.490000   \n",
       "1787  2007.0                 2.273616               6.390            8.485394   \n",
       "\n",
       "      country_Albania  country_Armenia  country_Australia  country_Austria  \\\n",
       "3207                0                0                  0                0   \n",
       "2518                0                0                  0                0   \n",
       "126                 0                1                  0                0   \n",
       "2510                0                0                  0                0   \n",
       "1787                0                0                  0                0   \n",
       "\n",
       "      country_Azerbaijan  country_Bahrain         ...          country_Sweden  \\\n",
       "3207                   0                0         ...                       0   \n",
       "2518                   0                0         ...                       0   \n",
       "126                    0                0         ...                       0   \n",
       "2510                   0                0         ...                       0   \n",
       "1787                   0                0         ...                       0   \n",
       "\n",
       "      country_Switzerland  country_Tajikistan  country_Thailand  \\\n",
       "3207                    0                   0                 0   \n",
       "2518                    0                   0                 0   \n",
       "126                     0                   0                 0   \n",
       "2510                    0                   0                 0   \n",
       "1787                    0                   0                 0   \n",
       "\n",
       "      country_Tunisia  country_Turkey  country_Ukraine  \\\n",
       "3207                0               0                0   \n",
       "2518                0               0                0   \n",
       "126                 0               0                0   \n",
       "2510                0               0                0   \n",
       "1787                0               0                0   \n",
       "\n",
       "      country_United Kingdom  country_United States  country_Uzbekistan  \n",
       "3207                       0                      0                   0  \n",
       "2518                       0                      0                   0  \n",
       "126                        0                      0                   0  \n",
       "2510                       0                      0                   0  \n",
       "1787                       0                      0                   0  \n",
       "\n",
       "[5 rows x 71 columns]"
      ]
     },
     "execution_count": 65,
     "metadata": {},
     "output_type": "execute_result"
    }
   ],
   "source": [
    "X_train_encoded.head()"
   ]
  },
  {
   "cell_type": "code",
   "execution_count": 66,
   "metadata": {},
   "outputs": [
    {
     "data": {
      "text/html": [
       "<div>\n",
       "<style scoped>\n",
       "    .dataframe tbody tr th:only-of-type {\n",
       "        vertical-align: middle;\n",
       "    }\n",
       "\n",
       "    .dataframe tbody tr th {\n",
       "        vertical-align: top;\n",
       "    }\n",
       "\n",
       "    .dataframe thead th {\n",
       "        text-align: right;\n",
       "    }\n",
       "</style>\n",
       "<table border=\"1\" class=\"dataframe\">\n",
       "  <thead>\n",
       "    <tr style=\"text-align: right;\">\n",
       "      <th></th>\n",
       "      <th>year</th>\n",
       "      <th>unemployment_percentage</th>\n",
       "      <th>murders_per_100000</th>\n",
       "      <th>alcohol_per_capita</th>\n",
       "      <th>country_Albania</th>\n",
       "      <th>country_Armenia</th>\n",
       "      <th>country_Australia</th>\n",
       "      <th>country_Austria</th>\n",
       "      <th>country_Azerbaijan</th>\n",
       "      <th>country_Bahrain</th>\n",
       "      <th>...</th>\n",
       "      <th>country_Sweden</th>\n",
       "      <th>country_Switzerland</th>\n",
       "      <th>country_Tajikistan</th>\n",
       "      <th>country_Thailand</th>\n",
       "      <th>country_Tunisia</th>\n",
       "      <th>country_Turkey</th>\n",
       "      <th>country_Ukraine</th>\n",
       "      <th>country_United Kingdom</th>\n",
       "      <th>country_United States</th>\n",
       "      <th>country_Uzbekistan</th>\n",
       "    </tr>\n",
       "  </thead>\n",
       "  <tbody>\n",
       "    <tr>\n",
       "      <th>0</th>\n",
       "      <td>2007.0</td>\n",
       "      <td>1.42</td>\n",
       "      <td>0.668</td>\n",
       "      <td>11.05</td>\n",
       "      <td>0</td>\n",
       "      <td>0</td>\n",
       "      <td>0</td>\n",
       "      <td>0</td>\n",
       "      <td>0</td>\n",
       "      <td>0</td>\n",
       "      <td>...</td>\n",
       "      <td>0</td>\n",
       "      <td>0</td>\n",
       "      <td>0</td>\n",
       "      <td>0</td>\n",
       "      <td>0</td>\n",
       "      <td>0</td>\n",
       "      <td>0</td>\n",
       "      <td>0</td>\n",
       "      <td>0</td>\n",
       "      <td>0</td>\n",
       "    </tr>\n",
       "  </tbody>\n",
       "</table>\n",
       "<p>1 rows × 71 columns</p>\n",
       "</div>"
      ],
      "text/plain": [
       "     year  unemployment_percentage  murders_per_100000  alcohol_per_capita  \\\n",
       "0  2007.0                     1.42               0.668               11.05   \n",
       "\n",
       "   country_Albania  country_Armenia  country_Australia  country_Austria  \\\n",
       "0                0                0                  0                0   \n",
       "\n",
       "   country_Azerbaijan  country_Bahrain         ...          country_Sweden  \\\n",
       "0                   0                0         ...                       0   \n",
       "\n",
       "   country_Switzerland  country_Tajikistan  country_Thailand  country_Tunisia  \\\n",
       "0                    0                   0                 0                0   \n",
       "\n",
       "   country_Turkey  country_Ukraine  country_United Kingdom  \\\n",
       "0               0                0                       0   \n",
       "\n",
       "   country_United States  country_Uzbekistan  \n",
       "0                      0                   0  \n",
       "\n",
       "[1 rows x 71 columns]"
      ]
     },
     "execution_count": 66,
     "metadata": {},
     "output_type": "execute_result"
    }
   ],
   "source": [
    "new_instance = X_train_encoded[:1:].copy()\n",
    "new_instance = new_instance.reset_index().drop(\"index\", axis=\"columns\")\n",
    "new_instance"
   ]
  },
  {
   "cell_type": "code",
   "execution_count": 67,
   "metadata": {},
   "outputs": [
    {
     "data": {
      "text/plain": [
       "array([11.36070482])"
      ]
     },
     "execution_count": 67,
     "metadata": {},
     "output_type": "execute_result"
    }
   ],
   "source": [
    "linear2.predict(new_instance)"
   ]
  },
  {
   "cell_type": "code",
   "execution_count": 68,
   "metadata": {},
   "outputs": [],
   "source": [
    "from sklearn.ensemble import RandomForestRegressor"
   ]
  },
  {
   "cell_type": "code",
   "execution_count": 69,
   "metadata": {},
   "outputs": [],
   "source": [
    "RFreg1 = RandomForestRegressor()"
   ]
  },
  {
   "cell_type": "code",
   "execution_count": 70,
   "metadata": {},
   "outputs": [
    {
     "name": "stderr",
     "output_type": "stream",
     "text": [
      "/srv/conda/lib/python3.6/site-packages/sklearn/ensemble/forest.py:246: FutureWarning: The default value of n_estimators will change from 10 in version 0.20 to 100 in 0.22.\n",
      "  \"10 in version 0.20 to 100 in 0.22.\", FutureWarning)\n",
      "/srv/conda/lib/python3.6/site-packages/ipykernel_launcher.py:1: DataConversionWarning: A column-vector y was passed when a 1d array was expected. Please change the shape of y to (n_samples,), for example using ravel().\n",
      "  \"\"\"Entry point for launching an IPython kernel.\n",
      "/srv/conda/lib/python3.6/site-packages/sklearn/model_selection/_validation.py:528: DataConversionWarning: A column-vector y was passed when a 1d array was expected. Please change the shape of y to (n_samples,), for example using ravel().\n",
      "  estimator.fit(X_train, y_train, **fit_params)\n",
      "/srv/conda/lib/python3.6/site-packages/sklearn/model_selection/_validation.py:528: DataConversionWarning: A column-vector y was passed when a 1d array was expected. Please change the shape of y to (n_samples,), for example using ravel().\n",
      "  estimator.fit(X_train, y_train, **fit_params)\n",
      "/srv/conda/lib/python3.6/site-packages/sklearn/model_selection/_validation.py:528: DataConversionWarning: A column-vector y was passed when a 1d array was expected. Please change the shape of y to (n_samples,), for example using ravel().\n",
      "  estimator.fit(X_train, y_train, **fit_params)\n"
     ]
    },
    {
     "name": "stdout",
     "output_type": "stream",
     "text": [
      "The mean accuracy score is 0.9160153448289561\n"
     ]
    },
    {
     "name": "stderr",
     "output_type": "stream",
     "text": [
      "/srv/conda/lib/python3.6/site-packages/sklearn/model_selection/_validation.py:528: DataConversionWarning: A column-vector y was passed when a 1d array was expected. Please change the shape of y to (n_samples,), for example using ravel().\n",
      "  estimator.fit(X_train, y_train, **fit_params)\n",
      "/srv/conda/lib/python3.6/site-packages/sklearn/model_selection/_validation.py:528: DataConversionWarning: A column-vector y was passed when a 1d array was expected. Please change the shape of y to (n_samples,), for example using ravel().\n",
      "  estimator.fit(X_train, y_train, **fit_params)\n"
     ]
    }
   ],
   "source": [
    "RFreg1.fit(X_train_encoded, y_train)\n",
    "\n",
    "print(\"The mean accuracy score is {0}\".format(np.mean(cross_val_score(RFreg1, X_train_encoded, y_train, cv = 5))))\n",
    "\n"
   ]
  },
  {
   "cell_type": "code",
   "execution_count": 71,
   "metadata": {},
   "outputs": [],
   "source": [
    "def countryColumn(countryName):\n",
    "    theString = \"country_\" + countryName\n",
    "    return theString"
   ]
  },
  {
   "cell_type": "code",
   "execution_count": 72,
   "metadata": {},
   "outputs": [],
   "source": [
    "def changeCountry(country):\n",
    "    for countries in full_country_list:\n",
    "        new_instance.loc[0, countryColumn(countries)]=0\n",
    "    new_instance.loc[0, countryColumn(country)] = 1\n",
    "    "
   ]
  },
  {
   "cell_type": "code",
   "execution_count": 73,
   "metadata": {
    "scrolled": true
   },
   "outputs": [
    {
     "data": {
      "application/vnd.jupyter.widget-view+json": {
       "model_id": "8a016dc8004e4c7396386d2e729e0020",
       "version_major": 2,
       "version_minor": 0
      },
      "text/plain": [
       "interactive(children=(Dropdown(description='Country:', options=('Albania', 'Armenia', 'Australia', 'Austria', …"
      ]
     },
     "metadata": {},
     "output_type": "display_data"
    }
   ],
   "source": [
    "country_dropdown = widgets.Dropdown(\n",
    "                            options=full_country_list,\n",
    "                            value = \"Albania\",\n",
    "                            description='Country:',\n",
    "                            disabled=False,\n",
    "                        )\n",
    "\n",
    "def print_me(country):\n",
    "    changeCountry(country)\n",
    "    print(RFreg1.predict(new_instance))\n",
    "\n",
    "\n",
    "widgets.interactive(print_me, country = country_dropdown)"
   ]
  },
  {
   "cell_type": "code",
   "execution_count": 74,
   "metadata": {},
   "outputs": [],
   "source": [
    "new_instance.loc[0, \"alcohol_per_capita\"]= 3"
   ]
  },
  {
   "cell_type": "code",
   "execution_count": 75,
   "metadata": {},
   "outputs": [],
   "source": [
    "new_instance.loc[0, \"year\"]= 2020"
   ]
  },
  {
   "cell_type": "code",
   "execution_count": 76,
   "metadata": {},
   "outputs": [
    {
     "data": {
      "text/html": [
       "<div>\n",
       "<style scoped>\n",
       "    .dataframe tbody tr th:only-of-type {\n",
       "        vertical-align: middle;\n",
       "    }\n",
       "\n",
       "    .dataframe tbody tr th {\n",
       "        vertical-align: top;\n",
       "    }\n",
       "\n",
       "    .dataframe thead th {\n",
       "        text-align: right;\n",
       "    }\n",
       "</style>\n",
       "<table border=\"1\" class=\"dataframe\">\n",
       "  <thead>\n",
       "    <tr style=\"text-align: right;\">\n",
       "      <th></th>\n",
       "      <th>year</th>\n",
       "      <th>unemployment_percentage</th>\n",
       "      <th>murders_per_100000</th>\n",
       "      <th>alcohol_per_capita</th>\n",
       "      <th>country_Albania</th>\n",
       "      <th>country_Armenia</th>\n",
       "      <th>country_Australia</th>\n",
       "      <th>country_Austria</th>\n",
       "      <th>country_Azerbaijan</th>\n",
       "      <th>country_Bahrain</th>\n",
       "      <th>...</th>\n",
       "      <th>country_Sweden</th>\n",
       "      <th>country_Switzerland</th>\n",
       "      <th>country_Tajikistan</th>\n",
       "      <th>country_Thailand</th>\n",
       "      <th>country_Tunisia</th>\n",
       "      <th>country_Turkey</th>\n",
       "      <th>country_Ukraine</th>\n",
       "      <th>country_United Kingdom</th>\n",
       "      <th>country_United States</th>\n",
       "      <th>country_Uzbekistan</th>\n",
       "    </tr>\n",
       "  </thead>\n",
       "  <tbody>\n",
       "    <tr>\n",
       "      <th>0</th>\n",
       "      <td>2020.0</td>\n",
       "      <td>1.42</td>\n",
       "      <td>0.668</td>\n",
       "      <td>3.0</td>\n",
       "      <td>1</td>\n",
       "      <td>0</td>\n",
       "      <td>0</td>\n",
       "      <td>0</td>\n",
       "      <td>0</td>\n",
       "      <td>0</td>\n",
       "      <td>...</td>\n",
       "      <td>0</td>\n",
       "      <td>0</td>\n",
       "      <td>0</td>\n",
       "      <td>0</td>\n",
       "      <td>0</td>\n",
       "      <td>0</td>\n",
       "      <td>0</td>\n",
       "      <td>0</td>\n",
       "      <td>0</td>\n",
       "      <td>0</td>\n",
       "    </tr>\n",
       "  </tbody>\n",
       "</table>\n",
       "<p>1 rows × 71 columns</p>\n",
       "</div>"
      ],
      "text/plain": [
       "     year  unemployment_percentage  murders_per_100000  alcohol_per_capita  \\\n",
       "0  2020.0                     1.42               0.668                 3.0   \n",
       "\n",
       "   country_Albania  country_Armenia  country_Australia  country_Austria  \\\n",
       "0                1                0                  0                0   \n",
       "\n",
       "   country_Azerbaijan  country_Bahrain         ...          country_Sweden  \\\n",
       "0                   0                0         ...                       0   \n",
       "\n",
       "   country_Switzerland  country_Tajikistan  country_Thailand  country_Tunisia  \\\n",
       "0                    0                   0                 0                0   \n",
       "\n",
       "   country_Turkey  country_Ukraine  country_United Kingdom  \\\n",
       "0               0                0                       0   \n",
       "\n",
       "   country_United States  country_Uzbekistan  \n",
       "0                      0                   0  \n",
       "\n",
       "[1 rows x 71 columns]"
      ]
     },
     "execution_count": 76,
     "metadata": {},
     "output_type": "execute_result"
    }
   ],
   "source": [
    "new_instance"
   ]
  },
  {
   "cell_type": "code",
   "execution_count": 84,
   "metadata": {},
   "outputs": [
    {
     "data": {
      "application/vnd.jupyter.widget-view+json": {
       "model_id": "89cbcd93ccda427d859798ac89bb5d02",
       "version_major": 2,
       "version_minor": 0
      },
      "text/plain": [
       "IntSlider(value=0, max=30)"
      ]
     },
     "metadata": {},
     "output_type": "display_data"
    }
   ],
   "source": [
    "from IPython.display import clear_output\n",
    "\n",
    "\n",
    "    \n",
    "\n",
    "int_range = widgets.IntSlider(min =0, max = 30)\n",
    "display(int_range)\n",
    "\n",
    "def on_value_change(change):\n",
    "    new_instance.loc[0, \"murders_per_100000\"]= change['new']\n",
    "    print(RFreg1.predict(new_instance))\n",
    "\n",
    "int_range.observe(on_value_change, names='value')"
   ]
  },
  {
   "cell_type": "code",
   "execution_count": 85,
   "metadata": {},
   "outputs": [
    {
     "data": {
      "text/plain": [
       "0.8535287495921163"
      ]
     },
     "execution_count": 85,
     "metadata": {},
     "output_type": "execute_result"
    }
   ],
   "source": [
    "RFreg1.score(X_test_encoded, y_test)"
   ]
  },
  {
   "cell_type": "code",
   "execution_count": 89,
   "metadata": {},
   "outputs": [],
   "source": [
    "all_encoded_X = pd.concat([X_train_encoded, X_test_encoded])"
   ]
  },
  {
   "cell_type": "code",
   "execution_count": 94,
   "metadata": {},
   "outputs": [
    {
     "name": "stderr",
     "output_type": "stream",
     "text": [
      "/srv/conda/lib/python3.6/site-packages/sklearn/ensemble/forest.py:246: FutureWarning: The default value of n_estimators will change from 10 in version 0.20 to 100 in 0.22.\n",
      "  \"10 in version 0.20 to 100 in 0.22.\", FutureWarning)\n",
      "/srv/conda/lib/python3.6/site-packages/ipykernel_launcher.py:2: DataConversionWarning: A column-vector y was passed when a 1d array was expected. Please change the shape of y to (n_samples,), for example using ravel().\n",
      "  \n"
     ]
    },
    {
     "data": {
      "text/plain": [
       "RandomForestRegressor(bootstrap=True, criterion='mse', max_depth=None,\n",
       "           max_features='auto', max_leaf_nodes=None,\n",
       "           min_impurity_decrease=0.0, min_impurity_split=None,\n",
       "           min_samples_leaf=1, min_samples_split=2,\n",
       "           min_weight_fraction_leaf=0.0, n_estimators=10, n_jobs=None,\n",
       "           oob_score=False, random_state=1, verbose=0, warm_start=False)"
      ]
     },
     "execution_count": 94,
     "metadata": {},
     "output_type": "execute_result"
    }
   ],
   "source": [
    "RFfinal = RandomForestRegressor(random_state = 1)\n",
    "RFfinal.fit(all_encoded_X, y)"
   ]
  },
  {
   "cell_type": "code",
   "execution_count": 95,
   "metadata": {},
   "outputs": [
    {
     "name": "stderr",
     "output_type": "stream",
     "text": [
      "/srv/conda/lib/python3.6/site-packages/sklearn/model_selection/_split.py:2053: FutureWarning: You should specify a value for 'cv' instead of relying on the default value. The default value will change from 3 to 5 in version 0.22.\n",
      "  warnings.warn(CV_WARNING, FutureWarning)\n",
      "/srv/conda/lib/python3.6/site-packages/sklearn/model_selection/_validation.py:528: DataConversionWarning: A column-vector y was passed when a 1d array was expected. Please change the shape of y to (n_samples,), for example using ravel().\n",
      "  estimator.fit(X_train, y_train, **fit_params)\n",
      "/srv/conda/lib/python3.6/site-packages/sklearn/model_selection/_validation.py:528: DataConversionWarning: A column-vector y was passed when a 1d array was expected. Please change the shape of y to (n_samples,), for example using ravel().\n",
      "  estimator.fit(X_train, y_train, **fit_params)\n",
      "/srv/conda/lib/python3.6/site-packages/sklearn/model_selection/_validation.py:528: DataConversionWarning: A column-vector y was passed when a 1d array was expected. Please change the shape of y to (n_samples,), for example using ravel().\n",
      "  estimator.fit(X_train, y_train, **fit_params)\n"
     ]
    },
    {
     "data": {
      "text/plain": [
       "array([-0.59345767, -0.17667414, -0.51113575])"
      ]
     },
     "execution_count": 95,
     "metadata": {},
     "output_type": "execute_result"
    }
   ],
   "source": [
    "cross_val_score(RFfinal, all_encoded_X, y)"
   ]
  },
  {
   "cell_type": "code",
   "execution_count": 98,
   "metadata": {},
   "outputs": [
    {
     "name": "stdout",
     "output_type": "stream",
     "text": [
      "Stored 'RFreg1' (RandomForestRegressor)\n",
      "Stored 'new_instance' (DataFrame)\n"
     ]
    }
   ],
   "source": [
    "%store RFreg1\n",
    "%store new_instance"
   ]
  },
  {
   "cell_type": "code",
   "execution_count": null,
   "metadata": {},
   "outputs": [],
   "source": []
  }
 ],
 "metadata": {
  "kernelspec": {
   "display_name": "Python 3",
   "language": "python",
   "name": "python3"
  },
  "language_info": {
   "codemirror_mode": {
    "name": "ipython",
    "version": 3
   },
   "file_extension": ".py",
   "mimetype": "text/x-python",
   "name": "python",
   "nbconvert_exporter": "python",
   "pygments_lexer": "ipython3",
   "version": "3.6.7"
  }
 },
 "nbformat": 4,
 "nbformat_minor": 1
}
