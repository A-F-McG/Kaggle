{
 "cells": [
  {
   "cell_type": "code",
   "execution_count": 6,
   "metadata": {},
   "outputs": [],
   "source": [
    "%store -r RFreg1\n",
    "%store -r new_instance\n",
    "%store -r full_country_list\n",
    "\n",
    "from ipywidgets import widgets"
   ]
  },
  {
   "cell_type": "code",
   "execution_count": 7,
   "metadata": {},
   "outputs": [
    {
     "data": {
      "application/vnd.jupyter.widget-view+json": {
       "model_id": "ee2b9187b29c46a08879540e71897bf9",
       "version_major": 2,
       "version_minor": 0
      },
      "text/plain": [
       "interactive(children=(Dropdown(description='Country:', options=('Albania', 'Armenia', 'Australia', 'Austria', …"
      ]
     },
     "metadata": {},
     "output_type": "display_data"
    }
   ],
   "source": [
    "def countryColumn(countryName):\n",
    "    theString = \"country_\" + countryName\n",
    "    return theString\n",
    "\n",
    "def changeCountry(country):\n",
    "    for countries in full_country_list:\n",
    "        new_instance.loc[0, countryColumn(countries)]=0\n",
    "    new_instance.loc[0, countryColumn(country)] = 1\n",
    "    \n",
    "country_dropdown = widgets.Dropdown(\n",
    "                            options=full_country_list,\n",
    "                            value = \"Albania\",\n",
    "                            description='Country:',\n",
    "                            disabled=False,\n",
    "                        )\n",
    "\n",
    "def print_me(country):\n",
    "    changeCountry(country)\n",
    "    this_one.value = str(RFreg1.predict(new_instance)[0])\n",
    "\n",
    "widgets.interactive(print_me, country = country_dropdown)"
   ]
  },
  {
   "cell_type": "code",
   "execution_count": 27,
   "metadata": {},
   "outputs": [
    {
     "data": {
      "application/vnd.jupyter.widget-view+json": {
       "model_id": "934a0c95d5f742a088f1b3130305b554",
       "version_major": 2,
       "version_minor": 0
      },
      "text/plain": [
       "IntSlider(value=0, max=30)"
      ]
     },
     "metadata": {},
     "output_type": "display_data"
    }
   ],
   "source": [
    "int_range = widgets.IntSlider(min =0, max = 30)\n",
    "display(int_range)\n",
    "\n",
    "def on_value_change(change):\n",
    "    new_instance.loc[0, \"murders_per_100000\"]= change['new']\n",
    "    this_one.value = str(RFreg1.predict(new_instance)[0])\n",
    "\n",
    "int_range.observe(on_value_change, names='value')"
   ]
  },
  {
   "cell_type": "code",
   "execution_count": 11,
   "metadata": {},
   "outputs": [
    {
     "data": {
      "application/vnd.jupyter.widget-view+json": {
       "model_id": "73e7cd972cc04badbd8b63f989fab2ce",
       "version_major": 2,
       "version_minor": 0
      },
      "text/plain": [
       "Text(value='yes')"
      ]
     },
     "metadata": {},
     "output_type": "display_data"
    }
   ],
   "source": [
    "this_one = widgets.Text(\"yes\")\n",
    "this_one"
   ]
  },
  {
   "cell_type": "code",
   "execution_count": 12,
   "metadata": {},
   "outputs": [],
   "source": [
    "this_one.value = \"no\""
   ]
  },
  {
   "cell_type": "code",
   "execution_count": null,
   "metadata": {},
   "outputs": [],
   "source": []
  }
 ],
 "metadata": {
  "kernelspec": {
   "display_name": "Python 3",
   "language": "python",
   "name": "python3"
  },
  "language_info": {
   "codemirror_mode": {
    "name": "ipython",
    "version": 3
   },
   "file_extension": ".py",
   "mimetype": "text/x-python",
   "name": "python",
   "nbconvert_exporter": "python",
   "pygments_lexer": "ipython3",
   "version": "3.6.7"
  }
 },
 "nbformat": 4,
 "nbformat_minor": 2
}
