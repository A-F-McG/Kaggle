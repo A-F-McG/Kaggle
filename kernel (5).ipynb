{
  "cells": [
    {
      "metadata": {
        "trusted": true,
        "_uuid": "1e3eee2552b9aabd633a4bbaf5172c0600ef1e6d"
      },
      "cell_type": "code",
      "source": "",
      "execution_count": null,
      "outputs": []
    },
    {
      "metadata": {
        "_uuid": "8f2839f25d086af736a60e9eeb907d3b93b6e0e5",
        "_cell_guid": "b1076dfc-b9ad-4769-8c92-a6c4dae69d19",
        "trusted": true
      },
      "cell_type": "code",
      "source": "from ipywidgets import widgets",
      "execution_count": 25,
      "outputs": []
    },
    {
      "metadata": {
        "_cell_guid": "79c7e3d0-c299-4dcb-8224-4455121ee9b0",
        "_uuid": "d629ff2d2480ee46fbb7e2d37f6b5fab8052498a",
        "trusted": true
      },
      "cell_type": "code",
      "source": "name = widgets.Text(placeholder = \"type your name\")\ndisplay(name)",
      "execution_count": 50,
      "outputs": [
        {
          "output_type": "display_data",
          "data": {
            "text/plain": "Text(value='', placeholder='type your name')",
            "application/vnd.jupyter.widget-view+json": {
              "version_major": 2,
              "version_minor": 0,
              "model_id": "e983952754914d199aabaec8f819ac23"
            }
          },
          "metadata": {}
        }
      ]
    },
    {
      "metadata": {
        "trusted": true,
        "_uuid": "4313b3e6cea7bc0872ae46da4124f678ff1f386d"
      },
      "cell_type": "code",
      "source": "yes_or_no = widgets.RadioButtons(options=[\"yes\", \"no\"], description = \"So, your name is {0}?\".format(name.value), style = {'description_width': 'initial'})\ndisplay(yes_or_no)",
      "execution_count": 60,
      "outputs": [
        {
          "output_type": "display_data",
          "data": {
            "text/plain": "RadioButtons(description='So, your name is Alice?', options=('yes', 'no'), style=DescriptionStyle(description_…",
            "application/vnd.jupyter.widget-view+json": {
              "version_major": 2,
              "version_minor": 0,
              "model_id": "01217455ae4a47d2a3b98be6385a2b3e"
            }
          },
          "metadata": {}
        }
      ]
    },
    {
      "metadata": {
        "trusted": true,
        "_uuid": "57cbb279c242e839294f5db024e3b95918bf541f"
      },
      "cell_type": "code",
      "source": "if yes_or_no.value==\"no\":\n    print(\"Sorry, my bad!\")\nelse:\n    print(\"Beautiful name\")",
      "execution_count": 63,
      "outputs": [
        {
          "output_type": "stream",
          "text": "Sorry, my bad!\n",
          "name": "stdout"
        }
      ]
    },
    {
      "metadata": {
        "trusted": true,
        "_uuid": "e5c6791dd15fcd84f499de0bae3055f480bb3e79"
      },
      "cell_type": "code",
      "source": "",
      "execution_count": null,
      "outputs": []
    }
  ],
  "metadata": {
    "kernelspec": {
      "display_name": "Python 3",
      "language": "python",
      "name": "python3"
    },
    "language_info": {
      "name": "python",
      "version": "3.6.6",
      "mimetype": "text/x-python",
      "codemirror_mode": {
        "name": "ipython",
        "version": 3
      },
      "pygments_lexer": "ipython3",
      "nbconvert_exporter": "python",
      "file_extension": ".py"
    }
  },
  "nbformat": 4,
  "nbformat_minor": 1
}